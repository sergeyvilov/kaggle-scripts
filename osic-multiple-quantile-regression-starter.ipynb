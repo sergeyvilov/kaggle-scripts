{
 "cells": [
  {
   "cell_type": "code",
   "execution_count": 1,
   "metadata": {
    "_cell_guid": "b1076dfc-b9ad-4769-8c92-a6c4dae69d19",
    "_uuid": "8f2839f25d086af736a60e9eeb907d3b93b6e0e5",
    "execution": {
     "iopub.execute_input": "2020-08-28T13:16:54.655826Z",
     "iopub.status.busy": "2020-08-28T13:16:54.655017Z",
     "iopub.status.idle": "2020-08-28T13:16:55.820833Z",
     "shell.execute_reply": "2020-08-28T13:16:55.820262Z"
    },
    "papermill": {
     "duration": 1.189087,
     "end_time": "2020-08-28T13:16:55.820955",
     "exception": false,
     "start_time": "2020-08-28T13:16:54.631868",
     "status": "completed"
    },
    "tags": []
   },
   "outputs": [],
   "source": [
    "import numpy as np\n",
    "import pandas as pd\n",
    "import pydicom\n",
    "import os\n",
    "import random\n",
    "import matplotlib.pyplot as plt\n",
    "from tqdm import tqdm\n",
    "from PIL import Image\n",
    "from sklearn.metrics import mean_absolute_error\n",
    "from sklearn.model_selection import KFold"
   ]
  },
  {
   "cell_type": "code",
   "execution_count": 2,
   "metadata": {
    "execution": {
     "iopub.execute_input": "2020-08-28T13:16:55.849131Z",
     "iopub.status.busy": "2020-08-28T13:16:55.848527Z",
     "iopub.status.idle": "2020-08-28T13:16:55.853090Z",
     "shell.execute_reply": "2020-08-28T13:16:55.852387Z"
    },
    "papermill": {
     "duration": 0.020716,
     "end_time": "2020-08-28T13:16:55.853258",
     "exception": false,
     "start_time": "2020-08-28T13:16:55.832542",
     "status": "completed"
    },
    "tags": []
   },
   "outputs": [],
   "source": [
    "import tensorflow as tf\n",
    "import tensorflow.keras.backend as K\n",
    "import tensorflow.keras.layers as L\n",
    "import tensorflow.keras.models as M\n"
   ]
  },
  {
   "cell_type": "code",
   "execution_count": 3,
   "metadata": {
    "execution": {
     "iopub.execute_input": "2020-08-28T13:16:55.893307Z",
     "iopub.status.busy": "2020-08-28T13:16:55.892654Z",
     "iopub.status.idle": "2020-08-28T13:16:55.896270Z",
     "shell.execute_reply": "2020-08-28T13:16:55.895631Z"
    },
    "papermill": {
     "duration": 0.02589,
     "end_time": "2020-08-28T13:16:55.896395",
     "exception": false,
     "start_time": "2020-08-28T13:16:55.870505",
     "status": "completed"
    },
    "tags": []
   },
   "outputs": [],
   "source": [
    "def seed_everything(seed=2020):\n",
    "    random.seed(seed)\n",
    "    os.environ['PYTHONHASHSEED'] = str(seed)\n",
    "    np.random.seed(seed)\n",
    "    tf.random.set_seed(seed)\n",
    "    \n",
    "seed_everything(42)"
   ]
  },
  {
   "cell_type": "code",
   "execution_count": 4,
   "metadata": {
    "execution": {
     "iopub.execute_input": "2020-08-28T13:16:55.925970Z",
     "iopub.status.busy": "2020-08-28T13:16:55.925346Z",
     "iopub.status.idle": "2020-08-28T13:16:55.928527Z",
     "shell.execute_reply": "2020-08-28T13:16:55.927904Z"
    },
    "papermill": {
     "duration": 0.01982,
     "end_time": "2020-08-28T13:16:55.928649",
     "exception": false,
     "start_time": "2020-08-28T13:16:55.908829",
     "status": "completed"
    },
    "tags": []
   },
   "outputs": [],
   "source": [
    "ROOT = \"../input/osic-pulmonary-fibrosis-progression\"\n",
    "BATCH_SIZE=128"
   ]
  },
  {
   "cell_type": "code",
   "execution_count": 5,
   "metadata": {
    "execution": {
     "iopub.execute_input": "2020-08-28T13:16:55.959606Z",
     "iopub.status.busy": "2020-08-28T13:16:55.958983Z",
     "iopub.status.idle": "2020-08-28T13:16:55.977525Z",
     "shell.execute_reply": "2020-08-28T13:16:55.978004Z"
    },
    "papermill": {
     "duration": 0.037848,
     "end_time": "2020-08-28T13:16:55.978143",
     "exception": false,
     "start_time": "2020-08-28T13:16:55.940295",
     "status": "completed"
    },
    "tags": []
   },
   "outputs": [],
   "source": [
    "train_df = pd.read_csv(f\"{ROOT}/train.csv\")\n",
    "# train_df['Where'] = 'train'\n",
    "test_df = pd.read_csv(f\"{ROOT}/test.csv\")\n",
    "# test_df['Where'] = 'test'\n",
    "# data = train_df.append(test_df)\n"
   ]
  },
  {
   "cell_type": "code",
   "execution_count": 6,
   "metadata": {
    "execution": {
     "iopub.execute_input": "2020-08-28T13:16:56.008491Z",
     "iopub.status.busy": "2020-08-28T13:16:56.007738Z",
     "iopub.status.idle": "2020-08-28T13:16:56.011909Z",
     "shell.execute_reply": "2020-08-28T13:16:56.011420Z"
    },
    "papermill": {
     "duration": 0.021875,
     "end_time": "2020-08-28T13:16:56.012021",
     "exception": false,
     "start_time": "2020-08-28T13:16:55.990146",
     "status": "completed"
    },
    "tags": []
   },
   "outputs": [],
   "source": [
    "#Normalization\n",
    "# data['Age'] = (data['Age'] - train_df['Age'].min() ) / ( train_df['Age'].max() - train_df['Age'].min() )\n",
    "# data['FVC'] = (data['FVC'] - train_df['FVC'].min() ) / ( train_df['FVC'].max() - train_df['FVC'].min() )\n",
    "# data['Percent'] = (data['Percent'] - train_df['Percent'].min() ) / ( train_df['Percent'].max() - train_df['Percent'].min() )\n",
    "# data['Weeks'] = (data['Weeks'] - train_df['Weeks'].min() ) / ( train_df['Weeks'].max() - train_df['Weeks'].min() )\n",
    "# data['FVC'] = (data['FVC'] - train_df['FVC'].min() ) / ( train_df['FVC'].max() - train_df['FVC'].min() )\n",
    "# data.head()"
   ]
  },
  {
   "cell_type": "code",
   "execution_count": 7,
   "metadata": {
    "execution": {
     "iopub.execute_input": "2020-08-28T13:16:56.049241Z",
     "iopub.status.busy": "2020-08-28T13:16:56.048587Z",
     "iopub.status.idle": "2020-08-28T13:16:56.051915Z",
     "shell.execute_reply": "2020-08-28T13:16:56.051268Z"
    },
    "papermill": {
     "duration": 0.028237,
     "end_time": "2020-08-28T13:16:56.052039",
     "exception": false,
     "start_time": "2020-08-28T13:16:56.023802",
     "status": "completed"
    },
    "tags": []
   },
   "outputs": [],
   "source": [
    "def rebase_weeks(data, mode = \"random\"):\n",
    "    \n",
    "    # we rebased weeks w.r.t. a random week\n",
    "#     data['base_week'] = data.groupby('Patient')['Weeks'].transform('min') #minimal week that we have for each patient\n",
    "    \n",
    "    data['max_week'] = data.groupby('Patient')['Weeks'].transform('max')\n",
    "    data['min_week'] = data.groupby('Patient')['Weeks'].transform('min')\n",
    "    base_week_df = data[['Patient', 'min_week', 'max_week']].copy()\n",
    "    base_week_df.drop_duplicates(inplace = True)\n",
    "    \n",
    "    if mode == \"min\":\n",
    "        base_week_df['base_week'] = base_week_df['min_week']\n",
    "    elif mode == \"random\": \n",
    "        base_week_df['base_week'] =  base_week_df.apply(lambda x:np.random.randint(x['min_week'],np.round(x['max_week']+x['min_week'])/2), axis = 1 )\n",
    "        \n",
    "    data = data.merge(base_week_df[[\"Patient\", \"base_week\"]], on=\"Patient\")\n",
    "    data['DeltaWeeks'] = data['Weeks'] - data['base_week'] \n",
    "    data.drop([\"base_week\", \"min_week\", \"max_week\"], axis=1, inplace=True)\n",
    "    \n",
    "    # we add column DeltaFVC to capture the FVC change from the first week and all other weeks (i.e. the slope)\n",
    "    FVC_df=data[data['DeltaWeeks'] == 0][['Patient', 'FVC']] #FVC taken at the minimal week for each patient: FVC_0\n",
    "    FVC_df.columns = [\"Patient\", \"FVC_0\"]\n",
    "    data = data.merge(FVC_df, on=\"Patient\")\n",
    "    \n",
    "    return data"
   ]
  },
  {
   "cell_type": "code",
   "execution_count": 8,
   "metadata": {
    "execution": {
     "iopub.execute_input": "2020-08-28T13:16:56.087752Z",
     "iopub.status.busy": "2020-08-28T13:16:56.087082Z",
     "iopub.status.idle": "2020-08-28T13:16:56.090635Z",
     "shell.execute_reply": "2020-08-28T13:16:56.090101Z"
    },
    "papermill": {
     "duration": 0.026719,
     "end_time": "2020-08-28T13:16:56.090746",
     "exception": false,
     "start_time": "2020-08-28T13:16:56.064027",
     "status": "completed"
    },
    "tags": []
   },
   "outputs": [],
   "source": [
    "#Normalization and one-hot encoding\n",
    "def normalize_patients(data):\n",
    "    min_age = 50\n",
    "    max_age = 90\n",
    "    data['Age'] = (data['Age'] - min_age ) / ( max_age - min_age )\n",
    "    min_FVC = 1000\n",
    "    max_FVC = 6500\n",
    "    data['FVC_0'] = (data['FVC_0'] - min_FVC) / (max_FVC - min_FVC)\n",
    "    min_percent = 0\n",
    "    max_percent = 150\n",
    "    data['Percent'] = (data['Percent'] - min_percent) / (max_percent - min_percent)\n",
    "    min_delta_week = 0\n",
    "    max_delta_week = 133+12\n",
    "    data['DeltaWeeks'] = (data['DeltaWeeks'] - min_delta_week ) / ( max_delta_week - min_delta_week)\n",
    "    \n",
    "    #don't need to normalize the target variable\n",
    "    # data['DeltaFVC'] = (data['DeltaFVC'] - data['DeltaFVC'].min() ) / ( data['DeltaFVC'].max() - data['DeltaFVC'].min() )\n",
    "    #we also don't normalize columns that aren't used for training\n",
    "    \n",
    "    #one hot encoding\n",
    "    data['SS_NS'] = (data[\"SmokingStatus\"] == \"Never smoked\").apply(lambda x:int(x))\n",
    "    data['SS_ES'] = (data[\"SmokingStatus\"] == \"Ex-smoker\").apply(lambda x:int(x))\n",
    "    data['Sex'] = (data[\"Sex\"] == \"Male\").apply(lambda x:int(x))\n",
    "    data.drop([\"SmokingStatus\"], axis=1, inplace=True)\n",
    "#     data = pd.get_dummies(data, columns=[\"SmokingStatus\", \"Sex\"], drop_first = True) \n",
    "#     data.rename(columns={\"SmokingStatus_Never smoked\": \"SS_NS\", \"SmokingStatus_Ex-smoker\": \"SS_ES\", \"Sex_Male\":\"Sex\"}, inplace = True)\n",
    "    \n",
    "    return data"
   ]
  },
  {
   "cell_type": "code",
   "execution_count": 9,
   "metadata": {
    "execution": {
     "iopub.execute_input": "2020-08-28T13:16:56.134926Z",
     "iopub.status.busy": "2020-08-28T13:16:56.128072Z",
     "iopub.status.idle": "2020-08-28T13:16:56.556514Z",
     "shell.execute_reply": "2020-08-28T13:16:56.555980Z"
    },
    "papermill": {
     "duration": 0.453213,
     "end_time": "2020-08-28T13:16:56.556643",
     "exception": false,
     "start_time": "2020-08-28T13:16:56.103430",
     "status": "completed"
    },
    "tags": []
   },
   "outputs": [
    {
     "data": {
      "text/html": [
       "<div>\n",
       "<style scoped>\n",
       "    .dataframe tbody tr th:only-of-type {\n",
       "        vertical-align: middle;\n",
       "    }\n",
       "\n",
       "    .dataframe tbody tr th {\n",
       "        vertical-align: top;\n",
       "    }\n",
       "\n",
       "    .dataframe thead th {\n",
       "        text-align: right;\n",
       "    }\n",
       "</style>\n",
       "<table border=\"1\" class=\"dataframe\">\n",
       "  <thead>\n",
       "    <tr style=\"text-align: right;\">\n",
       "      <th></th>\n",
       "      <th>FVC_0</th>\n",
       "      <th>Age</th>\n",
       "      <th>Percent</th>\n",
       "      <th>SS_NS</th>\n",
       "      <th>SS_ES</th>\n",
       "      <th>Sex</th>\n",
       "      <th>DeltaWeeks</th>\n",
       "      <th>FVC</th>\n",
       "    </tr>\n",
       "  </thead>\n",
       "  <tbody>\n",
       "    <tr>\n",
       "      <th>0</th>\n",
       "      <td>0.239091</td>\n",
       "      <td>0.725</td>\n",
       "      <td>0.388358</td>\n",
       "      <td>0</td>\n",
       "      <td>1</td>\n",
       "      <td>1</td>\n",
       "      <td>0.000000</td>\n",
       "      <td>2315</td>\n",
       "    </tr>\n",
       "    <tr>\n",
       "      <th>1</th>\n",
       "      <td>0.239091</td>\n",
       "      <td>0.725</td>\n",
       "      <td>0.371414</td>\n",
       "      <td>0</td>\n",
       "      <td>1</td>\n",
       "      <td>1</td>\n",
       "      <td>0.062069</td>\n",
       "      <td>2214</td>\n",
       "    </tr>\n",
       "    <tr>\n",
       "      <th>2</th>\n",
       "      <td>0.239091</td>\n",
       "      <td>0.725</td>\n",
       "      <td>0.345747</td>\n",
       "      <td>0</td>\n",
       "      <td>1</td>\n",
       "      <td>1</td>\n",
       "      <td>0.075862</td>\n",
       "      <td>2061</td>\n",
       "    </tr>\n",
       "    <tr>\n",
       "      <th>3</th>\n",
       "      <td>0.239091</td>\n",
       "      <td>0.725</td>\n",
       "      <td>0.359671</td>\n",
       "      <td>0</td>\n",
       "      <td>1</td>\n",
       "      <td>1</td>\n",
       "      <td>0.089655</td>\n",
       "      <td>2144</td>\n",
       "    </tr>\n",
       "    <tr>\n",
       "      <th>4</th>\n",
       "      <td>0.239091</td>\n",
       "      <td>0.725</td>\n",
       "      <td>0.347089</td>\n",
       "      <td>0</td>\n",
       "      <td>1</td>\n",
       "      <td>1</td>\n",
       "      <td>0.103448</td>\n",
       "      <td>2069</td>\n",
       "    </tr>\n",
       "  </tbody>\n",
       "</table>\n",
       "</div>"
      ],
      "text/plain": [
       "      FVC_0    Age   Percent  SS_NS  SS_ES  Sex  DeltaWeeks   FVC\n",
       "0  0.239091  0.725  0.388358      0      1    1    0.000000  2315\n",
       "1  0.239091  0.725  0.371414      0      1    1    0.062069  2214\n",
       "2  0.239091  0.725  0.345747      0      1    1    0.075862  2061\n",
       "3  0.239091  0.725  0.359671      0      1    1    0.089655  2144\n",
       "4  0.239091  0.725  0.347089      0      1    1    0.103448  2069"
      ]
     },
     "execution_count": 9,
     "metadata": {},
     "output_type": "execute_result"
    }
   ],
   "source": [
    "train_df1 = rebase_weeks(train_df.copy(), 'min') #fix the minimal week\n",
    "\n",
    "for i in range(8):\n",
    "    train_df2 = rebase_weeks(train_df.copy())\n",
    "    train_df1 = train_df1.append(train_df2, ignore_index=True)\n",
    "\n",
    "train_df = train_df1\n",
    "\n",
    "train_df = normalize_patients(train_df)\n",
    "\n",
    "#take only columns which we need for training\n",
    "#first columns - inputs, last column - target for training\n",
    "train_df = train_df[['FVC_0', 'Age', 'Percent', 'SS_NS', 'SS_ES', 'Sex', 'DeltaWeeks',  'FVC']] \n",
    "\n",
    "train_df.head()"
   ]
  },
  {
   "cell_type": "code",
   "execution_count": 10,
   "metadata": {
    "execution": {
     "iopub.execute_input": "2020-08-28T13:16:56.599817Z",
     "iopub.status.busy": "2020-08-28T13:16:56.598844Z",
     "iopub.status.idle": "2020-08-28T13:16:56.602677Z",
     "shell.execute_reply": "2020-08-28T13:16:56.603365Z"
    },
    "papermill": {
     "duration": 0.034064,
     "end_time": "2020-08-28T13:16:56.603520",
     "exception": false,
     "start_time": "2020-08-28T13:16:56.569456",
     "status": "completed"
    },
    "tags": []
   },
   "outputs": [
    {
     "data": {
      "text/html": [
       "<div>\n",
       "<style scoped>\n",
       "    .dataframe tbody tr th:only-of-type {\n",
       "        vertical-align: middle;\n",
       "    }\n",
       "\n",
       "    .dataframe tbody tr th {\n",
       "        vertical-align: top;\n",
       "    }\n",
       "\n",
       "    .dataframe thead th {\n",
       "        text-align: right;\n",
       "    }\n",
       "</style>\n",
       "<table border=\"1\" class=\"dataframe\">\n",
       "  <thead>\n",
       "    <tr style=\"text-align: right;\">\n",
       "      <th></th>\n",
       "      <th>Patient_Week</th>\n",
       "      <th>FVC</th>\n",
       "      <th>Confidence</th>\n",
       "    </tr>\n",
       "  </thead>\n",
       "  <tbody>\n",
       "    <tr>\n",
       "      <th>0</th>\n",
       "      <td>ID00419637202311204720264_6</td>\n",
       "      <td>3020</td>\n",
       "      <td>0.1</td>\n",
       "    </tr>\n",
       "    <tr>\n",
       "      <th>1</th>\n",
       "      <td>ID00421637202311550012437_15</td>\n",
       "      <td>2739</td>\n",
       "      <td>0.1</td>\n",
       "    </tr>\n",
       "    <tr>\n",
       "      <th>2</th>\n",
       "      <td>ID00422637202311677017371_6</td>\n",
       "      <td>1930</td>\n",
       "      <td>0.1</td>\n",
       "    </tr>\n",
       "    <tr>\n",
       "      <th>3</th>\n",
       "      <td>ID00423637202312137826377_17</td>\n",
       "      <td>3294</td>\n",
       "      <td>0.1</td>\n",
       "    </tr>\n",
       "    <tr>\n",
       "      <th>4</th>\n",
       "      <td>ID00426637202313170790466_0</td>\n",
       "      <td>2925</td>\n",
       "      <td>0.1</td>\n",
       "    </tr>\n",
       "  </tbody>\n",
       "</table>\n",
       "</div>"
      ],
      "text/plain": [
       "                   Patient_Week   FVC  Confidence\n",
       "0   ID00419637202311204720264_6  3020         0.1\n",
       "1  ID00421637202311550012437_15  2739         0.1\n",
       "2   ID00422637202311677017371_6  1930         0.1\n",
       "3  ID00423637202312137826377_17  3294         0.1\n",
       "4   ID00426637202313170790466_0  2925         0.1"
      ]
     },
     "execution_count": 10,
     "metadata": {},
     "output_type": "execute_result"
    }
   ],
   "source": [
    "sub_df_0 = test_df.copy()\n",
    "sub_df_0['Confidence'] = 0.1\n",
    "sub_df_0['Patient_Week'] = sub_df_0.apply(lambda x:x[\"Patient\"]+'_'+str(x['Weeks']), axis = 1)\n",
    "sub_df_0 = sub_df_0[['Patient_Week', 'FVC', 'Confidence']]\n",
    "sub_df_0.head()"
   ]
  },
  {
   "cell_type": "code",
   "execution_count": 11,
   "metadata": {
    "execution": {
     "iopub.execute_input": "2020-08-28T13:16:56.670722Z",
     "iopub.status.busy": "2020-08-28T13:16:56.651292Z",
     "iopub.status.idle": "2020-08-28T13:16:56.722447Z",
     "shell.execute_reply": "2020-08-28T13:16:56.721816Z"
    },
    "papermill": {
     "duration": 0.099418,
     "end_time": "2020-08-28T13:16:56.722555",
     "exception": false,
     "start_time": "2020-08-28T13:16:56.623137",
     "status": "completed"
    },
    "tags": []
   },
   "outputs": [
    {
     "data": {
      "text/html": [
       "<div>\n",
       "<style scoped>\n",
       "    .dataframe tbody tr th:only-of-type {\n",
       "        vertical-align: middle;\n",
       "    }\n",
       "\n",
       "    .dataframe tbody tr th {\n",
       "        vertical-align: top;\n",
       "    }\n",
       "\n",
       "    .dataframe thead th {\n",
       "        text-align: right;\n",
       "    }\n",
       "</style>\n",
       "<table border=\"1\" class=\"dataframe\">\n",
       "  <thead>\n",
       "    <tr style=\"text-align: right;\">\n",
       "      <th></th>\n",
       "      <th>Patient_Week</th>\n",
       "      <th>Age</th>\n",
       "      <th>Sex</th>\n",
       "      <th>SS_NS</th>\n",
       "      <th>SS_ES</th>\n",
       "      <th>Percent</th>\n",
       "      <th>FVC_0</th>\n",
       "      <th>DeltaWeeks</th>\n",
       "      <th>FVC</th>\n",
       "      <th>Confidence</th>\n",
       "    </tr>\n",
       "  </thead>\n",
       "  <tbody>\n",
       "    <tr>\n",
       "      <th>0</th>\n",
       "      <td>ID00419637202311204720264_-12</td>\n",
       "      <td>0.575</td>\n",
       "      <td>1</td>\n",
       "      <td>0</td>\n",
       "      <td>1</td>\n",
       "      <td>0.467912</td>\n",
       "      <td>0.367273</td>\n",
       "      <td>-0.124138</td>\n",
       "      <td>NaN</td>\n",
       "      <td>NaN</td>\n",
       "    </tr>\n",
       "    <tr>\n",
       "      <th>1</th>\n",
       "      <td>ID00419637202311204720264_-11</td>\n",
       "      <td>0.575</td>\n",
       "      <td>1</td>\n",
       "      <td>0</td>\n",
       "      <td>1</td>\n",
       "      <td>0.467912</td>\n",
       "      <td>0.367273</td>\n",
       "      <td>-0.117241</td>\n",
       "      <td>NaN</td>\n",
       "      <td>NaN</td>\n",
       "    </tr>\n",
       "    <tr>\n",
       "      <th>2</th>\n",
       "      <td>ID00419637202311204720264_-10</td>\n",
       "      <td>0.575</td>\n",
       "      <td>1</td>\n",
       "      <td>0</td>\n",
       "      <td>1</td>\n",
       "      <td>0.467912</td>\n",
       "      <td>0.367273</td>\n",
       "      <td>-0.110345</td>\n",
       "      <td>NaN</td>\n",
       "      <td>NaN</td>\n",
       "    </tr>\n",
       "    <tr>\n",
       "      <th>3</th>\n",
       "      <td>ID00419637202311204720264_-9</td>\n",
       "      <td>0.575</td>\n",
       "      <td>1</td>\n",
       "      <td>0</td>\n",
       "      <td>1</td>\n",
       "      <td>0.467912</td>\n",
       "      <td>0.367273</td>\n",
       "      <td>-0.103448</td>\n",
       "      <td>NaN</td>\n",
       "      <td>NaN</td>\n",
       "    </tr>\n",
       "    <tr>\n",
       "      <th>4</th>\n",
       "      <td>ID00419637202311204720264_-8</td>\n",
       "      <td>0.575</td>\n",
       "      <td>1</td>\n",
       "      <td>0</td>\n",
       "      <td>1</td>\n",
       "      <td>0.467912</td>\n",
       "      <td>0.367273</td>\n",
       "      <td>-0.0965517</td>\n",
       "      <td>NaN</td>\n",
       "      <td>NaN</td>\n",
       "    </tr>\n",
       "  </tbody>\n",
       "</table>\n",
       "</div>"
      ],
      "text/plain": [
       "                    Patient_Week    Age  Sex  SS_NS  SS_ES   Percent  \\\n",
       "0  ID00419637202311204720264_-12  0.575    1      0      1  0.467912   \n",
       "1  ID00419637202311204720264_-11  0.575    1      0      1  0.467912   \n",
       "2  ID00419637202311204720264_-10  0.575    1      0      1  0.467912   \n",
       "3   ID00419637202311204720264_-9  0.575    1      0      1  0.467912   \n",
       "4   ID00419637202311204720264_-8  0.575    1      0      1  0.467912   \n",
       "\n",
       "      FVC_0 DeltaWeeks  FVC  Confidence  \n",
       "0  0.367273  -0.124138  NaN         NaN  \n",
       "1  0.367273  -0.117241  NaN         NaN  \n",
       "2  0.367273  -0.110345  NaN         NaN  \n",
       "3  0.367273  -0.103448  NaN         NaN  \n",
       "4  0.367273 -0.0965517  NaN         NaN  "
      ]
     },
     "execution_count": 11,
     "metadata": {},
     "output_type": "execute_result"
    }
   ],
   "source": [
    "#prepare submission dataframe\n",
    "sub_df = pd.DataFrame(columns=['Patient_Week', 'Age', 'Sex', 'SmokingStatus', 'Percent', 'FVC_0', 'DeltaWeeks', 'FVC', 'Confidence'])\n",
    "for row in test_df.iterrows():\n",
    "    row = row[1]\n",
    "    first_week = row['Weeks']\n",
    "    Weeks = np.array([x for x in np.arange(-12, 134) if x!=first_week])\n",
    "    patient_df = pd.DataFrame({'Patient_Week':[row['Patient'] + '_' + str(x) for x in Weeks],  \n",
    "                               'Percent':row['Percent'], 'Age':row['Age'], 'Sex':row['Sex'], 'SmokingStatus':row['SmokingStatus'],'FVC_0':row['FVC'], \n",
    "                               'DeltaWeeks': Weeks-first_week, 'Confidence': np.nan, 'FVC':np.nan})\n",
    "    sub_df = sub_df.append(patient_df, ignore_index=True)\n",
    "\n",
    "sub_df = normalize_patients(sub_df)\n",
    "sub_df = sub_df[['Patient_Week', 'Age', 'Sex', 'SS_NS', 'SS_ES', 'Percent', 'FVC_0', 'DeltaWeeks', 'FVC', 'Confidence']]\n",
    "\n",
    "sub_df.head()"
   ]
  },
  {
   "cell_type": "markdown",
   "metadata": {
    "papermill": {
     "duration": 0.013679,
     "end_time": "2020-08-28T13:16:56.750416",
     "exception": false,
     "start_time": "2020-08-28T13:16:56.736737",
     "status": "completed"
    },
    "tags": []
   },
   "source": [
    "### BASELINE NN "
   ]
  },
  {
   "cell_type": "code",
   "execution_count": 12,
   "metadata": {
    "execution": {
     "iopub.execute_input": "2020-08-28T13:16:56.801758Z",
     "iopub.status.busy": "2020-08-28T13:16:56.791665Z",
     "iopub.status.idle": "2020-08-28T13:16:56.850919Z",
     "shell.execute_reply": "2020-08-28T13:16:56.850274Z"
    },
    "papermill": {
     "duration": 0.086865,
     "end_time": "2020-08-28T13:16:56.851029",
     "exception": false,
     "start_time": "2020-08-28T13:16:56.764164",
     "status": "completed"
    },
    "tags": []
   },
   "outputs": [],
   "source": [
    "C1, C2 = tf.constant(70, dtype='float32'), tf.constant(1000, dtype=\"float32\")\n",
    "\n",
    "#=============================#\n",
    "\n",
    "\n",
    "def score(y_true, y_pred):\n",
    "    tf.dtypes.cast(y_true, tf.float32)\n",
    "    tf.dtypes.cast(y_pred, tf.float32)\n",
    "    sigma = (y_pred[:, 2] - y_pred[:, 0]) #predicted std:btw 16th and 84th percentiles\n",
    "    fvc_pred = y_pred[:, 1] #predicted fvc: 50th percentile == median\n",
    "    sigma_clip = tf.maximum(sigma, C1)\n",
    "    delta = tf.abs(y_true[:, 0] - fvc_pred)\n",
    "    delta = tf.minimum(delta, C2)\n",
    "    sq2 = tf.sqrt( tf.dtypes.cast(2, dtype=tf.float32) )\n",
    "    metric = (delta / sigma_clip) * sq2 + tf.math.log(sigma_clip * sq2)\n",
    "    return K.mean(metric)\n",
    "#============================#\n",
    "def qloss(y_true, y_pred):\n",
    "    # Pinball loss for multiple quantiles\n",
    "    qs = [0.16, 0.50, 0.84]\n",
    "    q = tf.constant(np.array([qs]), dtype=tf.float32)\n",
    "    e = y_true - y_pred\n",
    "    v = tf.maximum(q*e, (q-1)*e)\n",
    "    return K.mean(v)\n",
    "#=============================#\n",
    "def mloss(_lambda):\n",
    "    def loss(y_true, y_pred):\n",
    "        return _lambda * qloss(y_true, y_pred) + (1 - _lambda)*score(y_true, y_pred)\n",
    "    return loss\n",
    "#=================\n",
    "def make_model(nh):\n",
    "    z = L.Input((nh,), name=\"Patient\")\n",
    "    x = L.Dense(100, activation=\"relu\", name=\"d1\")(z)\n",
    "    x = L.Dense(100, activation=\"relu\", name=\"d2\")(x)\n",
    "#     x = L.Dense(100, activation=\"relu\", name=\"d3\")(x)\n",
    "    p1 = L.Dense(3, activation=\"relu\", name=\"p1\")(x)\n",
    "#     p2 = L.Dense(3, activation=\"relu\", name=\"p2\")(x)\n",
    "#     preds = L.Lambda(lambda x: x[0] + tf.cumsum(x[1], axis=1), \n",
    "#                      name=\"preds\")([p1, p2])\n",
    "    \n",
    "    model = M.Model(z, p1, name=\"Qregression\")\n",
    "    #model.compile(loss=mloss(0.8), optimizer=\"adam\", metrics=[score])\n",
    "    model.compile(loss=mloss(0.8), optimizer=tf.keras.optimizers.Adam(lr=0.1, beta_1=0.9, beta_2=0.999, epsilon=None, decay=0.01, amsgrad=False), metrics=[score])\n",
    "    return model"
   ]
  },
  {
   "cell_type": "code",
   "execution_count": 13,
   "metadata": {
    "execution": {
     "iopub.execute_input": "2020-08-28T13:16:56.890499Z",
     "iopub.status.busy": "2020-08-28T13:16:56.889321Z",
     "iopub.status.idle": "2020-08-28T13:16:56.896925Z",
     "shell.execute_reply": "2020-08-28T13:16:56.896045Z"
    },
    "papermill": {
     "duration": 0.031517,
     "end_time": "2020-08-28T13:16:56.897060",
     "exception": false,
     "start_time": "2020-08-28T13:16:56.865543",
     "status": "completed"
    },
    "tags": []
   },
   "outputs": [],
   "source": [
    "#inputs and targets for training/validation\n",
    "input_features = ['Age', 'Sex', 'SS_NS', 'SS_ES', 'Percent', 'FVC_0', 'DeltaWeeks']\n",
    "\n",
    "y = train_df['FVC'].values\n",
    "z = train_df[input_features].values\n",
    "pred = np.zeros((z.shape[0], 3))\n",
    "nh = len(input_features)\n",
    "\n",
    "#inouts and targets for submission\n",
    "ze = sub_df[input_features].astype(float).values\n",
    "pe = np.zeros((ze.shape[0], 3))\n"
   ]
  },
  {
   "cell_type": "code",
   "execution_count": 14,
   "metadata": {
    "execution": {
     "iopub.execute_input": "2020-08-28T13:16:56.945749Z",
     "iopub.status.busy": "2020-08-28T13:16:56.945078Z",
     "iopub.status.idle": "2020-08-28T13:16:57.064118Z",
     "shell.execute_reply": "2020-08-28T13:16:57.063377Z"
    },
    "papermill": {
     "duration": 0.144945,
     "end_time": "2020-08-28T13:16:57.064320",
     "exception": false,
     "start_time": "2020-08-28T13:16:56.919375",
     "status": "completed"
    },
    "tags": []
   },
   "outputs": [
    {
     "name": "stdout",
     "output_type": "stream",
     "text": [
      "Model: \"Qregression\"\n",
      "_________________________________________________________________\n",
      "Layer (type)                 Output Shape              Param #   \n",
      "=================================================================\n",
      "Patient (InputLayer)         [(None, 7)]               0         \n",
      "_________________________________________________________________\n",
      "d1 (Dense)                   (None, 100)               800       \n",
      "_________________________________________________________________\n",
      "d2 (Dense)                   (None, 100)               10100     \n",
      "_________________________________________________________________\n",
      "p1 (Dense)                   (None, 3)                 303       \n",
      "=================================================================\n",
      "Total params: 11,203\n",
      "Trainable params: 11,203\n",
      "Non-trainable params: 0\n",
      "_________________________________________________________________\n",
      "None\n",
      "11203\n"
     ]
    }
   ],
   "source": [
    "net = make_model(nh)\n",
    "print(net.summary())\n",
    "print(net.count_params())"
   ]
  },
  {
   "cell_type": "code",
   "execution_count": 15,
   "metadata": {
    "execution": {
     "iopub.execute_input": "2020-08-28T13:16:57.099418Z",
     "iopub.status.busy": "2020-08-28T13:16:57.098674Z",
     "iopub.status.idle": "2020-08-28T13:16:57.102940Z",
     "shell.execute_reply": "2020-08-28T13:16:57.102390Z"
    },
    "papermill": {
     "duration": 0.024109,
     "end_time": "2020-08-28T13:16:57.103059",
     "exception": false,
     "start_time": "2020-08-28T13:16:57.078950",
     "status": "completed"
    },
    "tags": []
   },
   "outputs": [],
   "source": [
    "NFOLD = 5\n",
    "kf = KFold(n_splits=NFOLD, shuffle = True, random_state = 43)"
   ]
  },
  {
   "cell_type": "code",
   "execution_count": 16,
   "metadata": {
    "execution": {
     "iopub.execute_input": "2020-08-28T13:16:57.136755Z",
     "iopub.status.busy": "2020-08-28T13:16:57.135875Z",
     "iopub.status.idle": "2020-08-28T13:16:57.139628Z",
     "shell.execute_reply": "2020-08-28T13:16:57.138805Z"
    },
    "papermill": {
     "duration": 0.022611,
     "end_time": "2020-08-28T13:16:57.139757",
     "exception": false,
     "start_time": "2020-08-28T13:16:57.117146",
     "status": "completed"
    },
    "tags": []
   },
   "outputs": [],
   "source": [
    "# %%time\n",
    "# cnt = 0\n",
    "# val_error_tot = 0\n",
    "# train_error_tot = 0\n",
    "# EPOCHS = 50\n",
    "# for tr_idx, val_idx in kf.split(z):\n",
    "#     cnt += 1\n",
    "#     print(f\"FOLD {cnt}\")\n",
    "#     train_error = 1000\n",
    "#     SEED = 43\n",
    "#     while train_error>100:\n",
    "#         print(\"SEED:{}\".format(SEED))\n",
    "#         seed_everything(SEED)\n",
    "#         net = make_model(nh)\n",
    "#         net.fit(z[tr_idx], y[tr_idx], batch_size=BATCH_SIZE, epochs=EPOCHS, \n",
    "#             validation_data=(z[val_idx], y[val_idx]), verbose=0) #\n",
    "#         train_loss, train_error =  net.evaluate(z[tr_idx], y[tr_idx], verbose=0, batch_size=BATCH_SIZE)\n",
    "#         print(\"train\", [train_loss, train_error])\n",
    "#         if train_error>100:\n",
    "#             SEED = SEED+1\n",
    "#             print(\"Trying a new seed:{}\".format(SEED))\n",
    "#     val_loss, val_error = net.evaluate(z[val_idx], y[val_idx], verbose=0, batch_size=BATCH_SIZE)\n",
    "#     print(\"val\", [val_loss, val_error])\n",
    "#     print(\"predict val...\")\n",
    "#     pred[val_idx] = net.predict(z[val_idx], batch_size=BATCH_SIZE, verbose=0)\n",
    "#     print(\"predict test...\")\n",
    "#     train_error_tot += train_error / NFOLD\n",
    "#     val_error_tot += val_error / NFOLD\n",
    "#     pe += net.predict(ze, batch_size=BATCH_SIZE, verbose=0) / NFOLD\n",
    "# #==============\n",
    "# print(\"val_error_tot\", val_error_tot)\n",
    "# print(\"train_error_tot\", train_error_tot)"
   ]
  },
  {
   "cell_type": "code",
   "execution_count": 17,
   "metadata": {
    "execution": {
     "iopub.execute_input": "2020-08-28T13:16:57.204373Z",
     "iopub.status.busy": "2020-08-28T13:16:57.203541Z",
     "iopub.status.idle": "2020-08-28T13:17:01.751671Z",
     "shell.execute_reply": "2020-08-28T13:17:01.750956Z"
    },
    "papermill": {
     "duration": 4.586685,
     "end_time": "2020-08-28T13:17:01.751783",
     "exception": false,
     "start_time": "2020-08-28T13:16:57.165098",
     "status": "completed"
    },
    "tags": []
   },
   "outputs": [
    {
     "name": "stdout",
     "output_type": "stream",
     "text": [
      "train [38.62302780151367, 6.604335784912109]\n"
     ]
    }
   ],
   "source": [
    "#for inference\n",
    "sc = 10\n",
    "EPOCHS = 50\n",
    "seed_everything(43)\n",
    "while sc>7:\n",
    "    net = make_model(nh)\n",
    "    net.fit(z, y, batch_size=BATCH_SIZE, epochs=EPOCHS, verbose=0) #\n",
    "    ls, sc = net.evaluate(z, y, verbose=0, batch_size=BATCH_SIZE)\n",
    "    print(\"train\", [ls, sc])\n",
    "pe = net.predict(ze, batch_size=BATCH_SIZE, verbose=0)\n"
   ]
  },
  {
   "cell_type": "code",
   "execution_count": 18,
   "metadata": {
    "execution": {
     "iopub.execute_input": "2020-08-28T13:17:01.789282Z",
     "iopub.status.busy": "2020-08-28T13:17:01.788542Z",
     "iopub.status.idle": "2020-08-28T13:17:02.079807Z",
     "shell.execute_reply": "2020-08-28T13:17:02.079280Z"
    },
    "papermill": {
     "duration": 0.313381,
     "end_time": "2020-08-28T13:17:02.079921",
     "exception": false,
     "start_time": "2020-08-28T13:17:01.766540",
     "status": "completed"
    },
    "tags": []
   },
   "outputs": [
    {
     "data": {
      "image/png": "[encoded data removed]",
      "text/plain": [
       "<Figure size 432x288 with 1 Axes>"
      ]
     },
     "metadata": {
      "needs_background": "light"
     },
     "output_type": "display_data"
    }
   ],
   "source": [
    "pred = net.predict(z, batch_size=BATCH_SIZE, verbose=0)\n",
    "idxs = np.random.randint(0, y.shape[0], 10)\n",
    "plt.plot(y[idxs], label=\"ground truth\")\n",
    "plt.plot(pred[idxs, 0], label=\"q16\")\n",
    "plt.plot(pred[idxs, 1], label=\"q50\")\n",
    "plt.plot(pred[idxs, 2], label=\"q84\")\n",
    "plt.legend(loc=\"best\")\n",
    "plt.show()"
   ]
  },
  {
   "cell_type": "markdown",
   "metadata": {
    "papermill": {
     "duration": 0.014719,
     "end_time": "2020-08-28T13:17:02.109785",
     "exception": false,
     "start_time": "2020-08-28T13:17:02.095066",
     "status": "completed"
    },
    "tags": []
   },
   "source": [
    "### PREDICTION"
   ]
  },
  {
   "cell_type": "code",
   "execution_count": 19,
   "metadata": {
    "execution": {
     "iopub.execute_input": "2020-08-28T13:17:02.158094Z",
     "iopub.status.busy": "2020-08-28T13:17:02.157441Z",
     "iopub.status.idle": "2020-08-28T13:17:02.163962Z",
     "shell.execute_reply": "2020-08-28T13:17:02.163464Z"
    },
    "papermill": {
     "duration": 0.039365,
     "end_time": "2020-08-28T13:17:02.164072",
     "exception": false,
     "start_time": "2020-08-28T13:17:02.124707",
     "status": "completed"
    },
    "tags": []
   },
   "outputs": [
    {
     "data": {
      "text/html": [
       "<div>\n",
       "<style scoped>\n",
       "    .dataframe tbody tr th:only-of-type {\n",
       "        vertical-align: middle;\n",
       "    }\n",
       "\n",
       "    .dataframe tbody tr th {\n",
       "        vertical-align: top;\n",
       "    }\n",
       "\n",
       "    .dataframe thead th {\n",
       "        text-align: right;\n",
       "    }\n",
       "</style>\n",
       "<table border=\"1\" class=\"dataframe\">\n",
       "  <thead>\n",
       "    <tr style=\"text-align: right;\">\n",
       "      <th></th>\n",
       "      <th>Patient_Week</th>\n",
       "      <th>Age</th>\n",
       "      <th>Sex</th>\n",
       "      <th>SS_NS</th>\n",
       "      <th>SS_ES</th>\n",
       "      <th>Percent</th>\n",
       "      <th>FVC_0</th>\n",
       "      <th>DeltaWeeks</th>\n",
       "      <th>FVC</th>\n",
       "      <th>Confidence</th>\n",
       "    </tr>\n",
       "  </thead>\n",
       "  <tbody>\n",
       "    <tr>\n",
       "      <th>0</th>\n",
       "      <td>ID00419637202311204720264_-12</td>\n",
       "      <td>0.575</td>\n",
       "      <td>1</td>\n",
       "      <td>0</td>\n",
       "      <td>1</td>\n",
       "      <td>0.467912</td>\n",
       "      <td>0.367273</td>\n",
       "      <td>-0.124138</td>\n",
       "      <td>2873.570312</td>\n",
       "      <td>313.254883</td>\n",
       "    </tr>\n",
       "    <tr>\n",
       "      <th>1</th>\n",
       "      <td>ID00419637202311204720264_-11</td>\n",
       "      <td>0.575</td>\n",
       "      <td>1</td>\n",
       "      <td>0</td>\n",
       "      <td>1</td>\n",
       "      <td>0.467912</td>\n",
       "      <td>0.367273</td>\n",
       "      <td>-0.117241</td>\n",
       "      <td>2870.947266</td>\n",
       "      <td>313.036133</td>\n",
       "    </tr>\n",
       "    <tr>\n",
       "      <th>2</th>\n",
       "      <td>ID00419637202311204720264_-10</td>\n",
       "      <td>0.575</td>\n",
       "      <td>1</td>\n",
       "      <td>0</td>\n",
       "      <td>1</td>\n",
       "      <td>0.467912</td>\n",
       "      <td>0.367273</td>\n",
       "      <td>-0.110345</td>\n",
       "      <td>2868.323975</td>\n",
       "      <td>312.818604</td>\n",
       "    </tr>\n",
       "    <tr>\n",
       "      <th>3</th>\n",
       "      <td>ID00419637202311204720264_-9</td>\n",
       "      <td>0.575</td>\n",
       "      <td>1</td>\n",
       "      <td>0</td>\n",
       "      <td>1</td>\n",
       "      <td>0.467912</td>\n",
       "      <td>0.367273</td>\n",
       "      <td>-0.103448</td>\n",
       "      <td>2865.700195</td>\n",
       "      <td>312.601074</td>\n",
       "    </tr>\n",
       "    <tr>\n",
       "      <th>4</th>\n",
       "      <td>ID00419637202311204720264_-8</td>\n",
       "      <td>0.575</td>\n",
       "      <td>1</td>\n",
       "      <td>0</td>\n",
       "      <td>1</td>\n",
       "      <td>0.467912</td>\n",
       "      <td>0.367273</td>\n",
       "      <td>-0.0965517</td>\n",
       "      <td>2863.077148</td>\n",
       "      <td>312.383057</td>\n",
       "    </tr>\n",
       "  </tbody>\n",
       "</table>\n",
       "</div>"
      ],
      "text/plain": [
       "                    Patient_Week    Age  Sex  SS_NS  SS_ES   Percent  \\\n",
       "0  ID00419637202311204720264_-12  0.575    1      0      1  0.467912   \n",
       "1  ID00419637202311204720264_-11  0.575    1      0      1  0.467912   \n",
       "2  ID00419637202311204720264_-10  0.575    1      0      1  0.467912   \n",
       "3   ID00419637202311204720264_-9  0.575    1      0      1  0.467912   \n",
       "4   ID00419637202311204720264_-8  0.575    1      0      1  0.467912   \n",
       "\n",
       "      FVC_0 DeltaWeeks          FVC  Confidence  \n",
       "0  0.367273  -0.124138  2873.570312  313.254883  \n",
       "1  0.367273  -0.117241  2870.947266  313.036133  \n",
       "2  0.367273  -0.110345  2868.323975  312.818604  \n",
       "3  0.367273  -0.103448  2865.700195  312.601074  \n",
       "4  0.367273 -0.0965517  2863.077148  312.383057  "
      ]
     },
     "execution_count": 19,
     "metadata": {},
     "output_type": "execute_result"
    }
   ],
   "source": [
    "sub_df['FVC'] = pe[:, 1]\n",
    "sub_df['Confidence'] = (pe[:, 2] - pe[:, 0])\n",
    "sub_df.head()"
   ]
  },
  {
   "cell_type": "code",
   "execution_count": 20,
   "metadata": {
    "execution": {
     "iopub.execute_input": "2020-08-28T13:17:02.203798Z",
     "iopub.status.busy": "2020-08-28T13:17:02.203124Z",
     "iopub.status.idle": "2020-08-28T13:17:02.207216Z",
     "shell.execute_reply": "2020-08-28T13:17:02.206552Z"
    },
    "papermill": {
     "duration": 0.027986,
     "end_time": "2020-08-28T13:17:02.207328",
     "exception": false,
     "start_time": "2020-08-28T13:17:02.179342",
     "status": "completed"
    },
    "tags": []
   },
   "outputs": [],
   "source": [
    "sub_df = sub_df[['Patient_Week', 'FVC', 'Confidence']]\n",
    "sub_df = sub_df.append(sub_df_0, ignore_index = True)"
   ]
  },
  {
   "cell_type": "code",
   "execution_count": 21,
   "metadata": {
    "execution": {
     "iopub.execute_input": "2020-08-28T13:17:02.242618Z",
     "iopub.status.busy": "2020-08-28T13:17:02.241976Z",
     "iopub.status.idle": "2020-08-28T13:17:02.307337Z",
     "shell.execute_reply": "2020-08-28T13:17:02.306769Z"
    },
    "papermill": {
     "duration": 0.084879,
     "end_time": "2020-08-28T13:17:02.307449",
     "exception": false,
     "start_time": "2020-08-28T13:17:02.222570",
     "status": "completed"
    },
    "tags": []
   },
   "outputs": [],
   "source": [
    "sub_df.to_csv(\"submission.csv\", index=False)"
   ]
  }
 ],
 "metadata": {
  "kernelspec": {
   "display_name": "Python 3",
   "language": "python",
   "name": "python3"
  },
  "language_info": {
   "codemirror_mode": {
    "name": "ipython",
    "version": 3
   },
   "file_extension": ".py",
   "mimetype": "text/x-python",
   "name": "python",
   "nbconvert_exporter": "python",
   "pygments_lexer": "ipython3",
   "version": "3.7.4"
  },
  "papermill": {
   "duration": 20.711159,
   "end_time": "2020-08-28T13:17:02.430791",
   "environment_variables": {},
   "exception": null,
   "input_path": "__notebook__.ipynb",
   "output_path": "__notebook__.ipynb",
   "parameters": {},
   "start_time": "2020-08-28T13:16:41.719632",
   "version": "2.1.0"
  }
 },
 "nbformat": 4,
 "nbformat_minor": 4
}
