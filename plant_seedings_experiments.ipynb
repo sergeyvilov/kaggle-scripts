{
 "cells": [
  {
   "cell_type": "code",
   "execution_count": 1,
   "metadata": {
    "colab": {
     "base_uri": "https://localhost:8080/",
     "height": 124
    },
    "colab_type": "code",
    "executionInfo": {
     "elapsed": 24166,
     "status": "ok",
     "timestamp": 1591172332420,
     "user": {
      "displayName": "Sergey Vilov",
      "photoUrl": "",
      "userId": "16545205334574304565"
     },
     "user_tz": -120
    },
    "id": "EUocHaKk2-lX",
    "outputId": "eda449e2-b9b5-4ef8-b201-cb3868750cf0"
   },
   "outputs": [
    {
     "name": "stdout",
     "output_type": "stream",
     "text": [
      "Go to this URL in a browser: https://accounts.google.com/o/oauth2/auth?client_id=947318989803-6bn6qk8qdgf4n4g3pfee6491hc0brc4i.apps.googleusercontent.com&redirect_uri=urn%3aietf%3awg%3aoauth%3a2.0%3aoob&response_type=code&scope=email%20https%3a%2f%2fwww.googleapis.com%2fauth%2fdocs.test%20https%3a%2f%2fwww.googleapis.com%2fauth%2fdrive%20https%3a%2f%2fwww.googleapis.com%2fauth%2fdrive.photos.readonly%20https%3a%2f%2fwww.googleapis.com%2fauth%2fpeopleapi.readonly\n",
      "\n",
      "Enter your authorization code:\n",
      "··········\n",
      "Mounted at drive\n"
     ]
    }
   ],
   "source": [
    "from google.colab import drive\n",
    "drive.mount('drive', force_remount=True)"
   ]
  },
  {
   "cell_type": "code",
   "execution_count": 5,
   "metadata": {
    "colab": {
     "base_uri": "https://localhost:8080/",
     "height": 139
    },
    "colab_type": "code",
    "executionInfo": {
     "elapsed": 3624,
     "status": "ok",
     "timestamp": 1591092499311,
     "user": {
      "displayName": "Sergey Vilov",
      "photoUrl": "",
      "userId": "16545205334574304565"
     },
     "user_tz": -120
    },
    "id": "e1yC-hGa3gi8",
    "outputId": "65122eb2-fc4b-4a9e-aa0b-5c70a3f840f2"
   },
   "outputs": [
    {
     "name": "stdout",
     "output_type": "stream",
     "text": [
      "/content/drive/My Drive/DL/plant_seedings_models\n",
      "/content/drive/My Drive/DL/plant_seedings_models\n",
      "plant_seedings_VGG16_green_only.h5\n",
      "plant_seedings_VGG16_green_only_simple_top.h5\n",
      "plant_seedings_VGG16_green_only_simple_top_with_block5.h5\n",
      "plant_seedings_VGG16_green_only_with_block5.h5\n",
      "plant_seedings_VGG16_with_block5.h5\n"
     ]
    }
   ],
   "source": [
    "%cd '/content/drive/My Drive/DL/plant_seedings_models'\n",
    "!pwd\n",
    "!ls\n"
   ]
  },
  {
   "cell_type": "code",
   "execution_count": 0,
   "metadata": {
    "colab": {
     "base_uri": "https://localhost:8080/",
     "height": 156
    },
    "colab_type": "code",
    "executionInfo": {
     "elapsed": 79557,
     "status": "ok",
     "timestamp": 1590336616801,
     "user": {
      "displayName": "Sergey Vilov",
      "photoUrl": "",
      "userId": "16545205334574304565"
     },
     "user_tz": -120
    },
    "id": "lpwv8j_HY9Y1",
    "outputId": "dbfeabb5-36bf-4ca3-844a-e04a74283102"
   },
   "outputs": [
    {
     "name": "stdout",
     "output_type": "stream",
     "text": [
      "Cloning into 'plant_seedings'...\n",
      "remote: Enumerating objects: 16, done.\u001b[K\n",
      "remote: Counting objects: 100% (16/16), done.\u001b[K\n",
      "remote: Compressing objects: 100% (16/16), done.\u001b[K\n",
      "remote: Total 4812 (delta 0), reused 15 (delta 0), pack-reused 4796\u001b[K\n",
      "Receiving objects: 100% (4812/4812), 179.22 MiB | 21.22 MiB/s, done.\n",
      "Resolving deltas: 100% (1/1), done.\n",
      "Checking out files: 100% (6430/6430), done.\n"
     ]
    }
   ],
   "source": [
    "!git clone https://github.com/sergeyvilov/plant_seedings"
   ]
  },
  {
   "cell_type": "code",
   "execution_count": 0,
   "metadata": {
    "colab": {
     "base_uri": "https://localhost:8080/",
     "height": 417
    },
    "colab_type": "code",
    "executionInfo": {
     "elapsed": 2936,
     "status": "error",
     "timestamp": 1590500008144,
     "user": {
      "displayName": "Sergey Vilov",
      "photoUrl": "",
      "userId": "16545205334574304565"
     },
     "user_tz": -120
    },
    "id": "a-iJvphSZFe5",
    "outputId": "e4c2849c-136a-447d-f844-08f1f0c5543a"
   },
   "outputs": [
    {
     "name": "stderr",
     "output_type": "stream",
     "text": [
      "Using TensorFlow backend.\n"
     ]
    },
    {
     "ename": "FileNotFoundError",
     "evalue": "ignored",
     "output_type": "error",
     "traceback": [
      "\u001b[0;31m---------------------------------------------------------------------------\u001b[0m",
      "\u001b[0;31mFileNotFoundError\u001b[0m                         Traceback (most recent call last)",
      "\u001b[0;32m<ipython-input-2-c7ead63cb501>\u001b[0m in \u001b[0;36m<module>\u001b[0;34m()\u001b[0m\n\u001b[1;32m     11\u001b[0m     \u001b[0mtarget_size\u001b[0m \u001b[0;34m=\u001b[0m \u001b[0;34m(\u001b[0m\u001b[0;36m60\u001b[0m\u001b[0;34m,\u001b[0m\u001b[0;36m60\u001b[0m\u001b[0;34m)\u001b[0m\u001b[0;34m,\u001b[0m\u001b[0;34m\u001b[0m\u001b[0;34m\u001b[0m\u001b[0m\n\u001b[1;32m     12\u001b[0m     \u001b[0mbatch_size\u001b[0m \u001b[0;34m=\u001b[0m \u001b[0;36m20\u001b[0m\u001b[0;34m,\u001b[0m\u001b[0;34m\u001b[0m\u001b[0;34m\u001b[0m\u001b[0m\n\u001b[0;32m---> 13\u001b[0;31m     class_mode = 'categorical')\n\u001b[0m\u001b[1;32m     14\u001b[0m \u001b[0;34m\u001b[0m\u001b[0m\n\u001b[1;32m     15\u001b[0m validation_generator = test_datagen.flow_from_directory(\n",
      "\u001b[0;32m/usr/local/lib/python3.6/dist-packages/keras/preprocessing/image.py\u001b[0m in \u001b[0;36mflow_from_directory\u001b[0;34m(self, directory, target_size, color_mode, classes, class_mode, batch_size, shuffle, seed, save_to_dir, save_prefix, save_format, follow_links, subset, interpolation)\u001b[0m\n\u001b[1;32m    465\u001b[0m             \u001b[0mfollow_links\u001b[0m\u001b[0;34m=\u001b[0m\u001b[0mfollow_links\u001b[0m\u001b[0;34m,\u001b[0m\u001b[0;34m\u001b[0m\u001b[0;34m\u001b[0m\u001b[0m\n\u001b[1;32m    466\u001b[0m             \u001b[0msubset\u001b[0m\u001b[0;34m=\u001b[0m\u001b[0msubset\u001b[0m\u001b[0;34m,\u001b[0m\u001b[0;34m\u001b[0m\u001b[0;34m\u001b[0m\u001b[0m\n\u001b[0;32m--> 467\u001b[0;31m             \u001b[0minterpolation\u001b[0m\u001b[0;34m=\u001b[0m\u001b[0minterpolation\u001b[0m\u001b[0;34m\u001b[0m\u001b[0;34m\u001b[0m\u001b[0m\n\u001b[0m\u001b[1;32m    468\u001b[0m         )\n\u001b[1;32m    469\u001b[0m \u001b[0;34m\u001b[0m\u001b[0m\n",
      "\u001b[0;32m/usr/local/lib/python3.6/dist-packages/keras/preprocessing/image.py\u001b[0m in \u001b[0;36m__init__\u001b[0;34m(self, directory, image_data_generator, target_size, color_mode, classes, class_mode, batch_size, shuffle, seed, data_format, save_to_dir, save_prefix, save_format, follow_links, subset, interpolation, dtype)\u001b[0m\n\u001b[1;32m    148\u001b[0m             \u001b[0msubset\u001b[0m\u001b[0;34m=\u001b[0m\u001b[0msubset\u001b[0m\u001b[0;34m,\u001b[0m\u001b[0;34m\u001b[0m\u001b[0;34m\u001b[0m\u001b[0m\n\u001b[1;32m    149\u001b[0m             \u001b[0minterpolation\u001b[0m\u001b[0;34m=\u001b[0m\u001b[0minterpolation\u001b[0m\u001b[0;34m,\u001b[0m\u001b[0;34m\u001b[0m\u001b[0;34m\u001b[0m\u001b[0m\n\u001b[0;32m--> 150\u001b[0;31m             dtype=dtype)\n\u001b[0m\u001b[1;32m    151\u001b[0m \u001b[0;34m\u001b[0m\u001b[0m\n\u001b[1;32m    152\u001b[0m \u001b[0;34m\u001b[0m\u001b[0m\n",
      "\u001b[0;32m/usr/local/lib/python3.6/dist-packages/keras_preprocessing/image/directory_iterator.py\u001b[0m in \u001b[0;36m__init__\u001b[0;34m(self, directory, image_data_generator, target_size, color_mode, classes, class_mode, batch_size, shuffle, seed, data_format, save_to_dir, save_prefix, save_format, follow_links, subset, interpolation, dtype)\u001b[0m\n\u001b[1;32m    113\u001b[0m         \u001b[0;32mif\u001b[0m \u001b[0;32mnot\u001b[0m \u001b[0mclasses\u001b[0m\u001b[0;34m:\u001b[0m\u001b[0;34m\u001b[0m\u001b[0;34m\u001b[0m\u001b[0m\n\u001b[1;32m    114\u001b[0m             \u001b[0mclasses\u001b[0m \u001b[0;34m=\u001b[0m \u001b[0;34m[\u001b[0m\u001b[0;34m]\u001b[0m\u001b[0;34m\u001b[0m\u001b[0;34m\u001b[0m\u001b[0m\n\u001b[0;32m--> 115\u001b[0;31m             \u001b[0;32mfor\u001b[0m \u001b[0msubdir\u001b[0m \u001b[0;32min\u001b[0m \u001b[0msorted\u001b[0m\u001b[0;34m(\u001b[0m\u001b[0mos\u001b[0m\u001b[0;34m.\u001b[0m\u001b[0mlistdir\u001b[0m\u001b[0;34m(\u001b[0m\u001b[0mdirectory\u001b[0m\u001b[0;34m)\u001b[0m\u001b[0;34m)\u001b[0m\u001b[0;34m:\u001b[0m\u001b[0;34m\u001b[0m\u001b[0;34m\u001b[0m\u001b[0m\n\u001b[0m\u001b[1;32m    116\u001b[0m                 \u001b[0;32mif\u001b[0m \u001b[0mos\u001b[0m\u001b[0;34m.\u001b[0m\u001b[0mpath\u001b[0m\u001b[0;34m.\u001b[0m\u001b[0misdir\u001b[0m\u001b[0;34m(\u001b[0m\u001b[0mos\u001b[0m\u001b[0;34m.\u001b[0m\u001b[0mpath\u001b[0m\u001b[0;34m.\u001b[0m\u001b[0mjoin\u001b[0m\u001b[0;34m(\u001b[0m\u001b[0mdirectory\u001b[0m\u001b[0;34m,\u001b[0m \u001b[0msubdir\u001b[0m\u001b[0;34m)\u001b[0m\u001b[0;34m)\u001b[0m\u001b[0;34m:\u001b[0m\u001b[0;34m\u001b[0m\u001b[0;34m\u001b[0m\u001b[0m\n\u001b[1;32m    117\u001b[0m                     \u001b[0mclasses\u001b[0m\u001b[0;34m.\u001b[0m\u001b[0mappend\u001b[0m\u001b[0;34m(\u001b[0m\u001b[0msubdir\u001b[0m\u001b[0;34m)\u001b[0m\u001b[0;34m\u001b[0m\u001b[0;34m\u001b[0m\u001b[0m\n",
      "\u001b[0;31mFileNotFoundError\u001b[0m: [Errno 2] No such file or directory: 'plant_seedings/train'"
     ]
    }
   ],
   "source": [
    "from keras.preprocessing.image import ImageDataGenerator\n",
    "\n",
    "import numpy as np\n",
    "\n",
    "\n",
    "train_datagen = ImageDataGenerator(rescale=1./255)\n",
    "test_datagen = ImageDataGenerator(rescale=1./255)\n",
    "\n",
    "train_generator = train_datagen.flow_from_directory(\n",
    "    'plant_seedings/train',\n",
    "    target_size = (60,60),\n",
    "    batch_size = 20,\n",
    "    class_mode = 'categorical')\n",
    "\n",
    "validation_generator = test_datagen.flow_from_directory(\n",
    "    'plant_seedings/validation',\n",
    "    target_size = (60,60),\n",
    "    batch_size = 20,\n",
    "    class_mode = 'categorical')\n"
   ]
  },
  {
   "cell_type": "code",
   "execution_count": 0,
   "metadata": {
    "colab": {
     "base_uri": "https://localhost:8080/",
     "height": 69
    },
    "colab_type": "code",
    "executionInfo": {
     "elapsed": 51826,
     "status": "ok",
     "timestamp": 1590249360213,
     "user": {
      "displayName": "Sergey Vilov",
      "photoUrl": "",
      "userId": "16545205334574304565"
     },
     "user_tz": -120
    },
    "id": "bSGy5mFHgJsn",
    "outputId": "c05c92e0-1bf7-45db-8e87-1e283398c273"
   },
   "outputs": [
    {
     "name": "stdout",
     "output_type": "stream",
     "text": [
      "Found 1680 images belonging to 12 classes.\n",
      "Found 360 images belonging to 12 classes.\n",
      "Found 360 images belonging to 12 classes.\n"
     ]
    }
   ],
   "source": [
    "from tensorflow.keras.applications import VGG16\n",
    "\n",
    "\n",
    "import os\n",
    "import numpy as np\n",
    "from tensorflow.keras.preprocessing.image import ImageDataGenerator\n",
    "\n",
    "conv_base = VGG16(weights='imagenet',\n",
    "                  include_top=False,\n",
    "                  input_shape=(150, 150, 3))\n",
    "\n",
    "\n",
    "base_dir = '/content/drive/My Drive/DL/plant_seedings/' \n",
    "train_dir = os.path.join(base_dir, 'train_validation') \n",
    "validation_dir = os.path.join(base_dir, 'test') \n",
    "test_dir = os.path.join(base_dir, 'kaggle_test')\n",
    "\n",
    "datagen = ImageDataGenerator(rescale=1./255) \n",
    "batch_size = 20\n",
    "\n",
    "def get_green(batch):\n",
    "  for i in range(batch_size):\n",
    "    batch[i,:,:,1] = np.divide(batch[i,:,:,1],(batch[i,:,:,0]+batch[i,:,:,1]+batch[i,:,:,2]))*255\n",
    "    batch[i,:,:,0] =batch[i,:,:,1];\n",
    "    batch[i,:,:,2] = batch[i,:,:,2];\n",
    "  return batch\n",
    "\n",
    "def extract_features(directory, sample_count):\n",
    "  features = np.zeros(shape=(sample_count, 4, 4, 512)) \n",
    "  labels = np.zeros(shape=(sample_count, 12))\n",
    "  generator = datagen.flow_from_directory(\n",
    "      directory, target_size=(150, 150), batch_size=batch_size, class_mode='categorical', interpolation = 'bicubic')\n",
    "  i=0\n",
    "  for inputs_batch, labels_batch in generator:\n",
    "\n",
    "    features_batch = conv_base.predict(get_green(inputs_batch))\n",
    "    features[i * batch_size : (i + 1) * batch_size] = features_batch \n",
    "    labels[i * batch_size : (i + 1) * batch_size] = labels_batch\n",
    "    i += 1\n",
    "    if i * batch_size >= sample_count:\n",
    "      break\n",
    "  return features, labels\n",
    "\n",
    "train_features, train_labels = extract_features(train_dir, 1680) \n",
    "validation_features, validation_labels = extract_features(validation_dir, 360) \n",
    "test_features, test_labels = extract_features(test_dir, 360)"
   ]
  },
  {
   "cell_type": "code",
   "execution_count": 0,
   "metadata": {
    "colab": {},
    "colab_type": "code",
    "id": "db0LlS7QmHfJ"
   },
   "outputs": [],
   "source": [
    "train_features = np.reshape(train_features, (1680, 4 * 4 * 512)) \n",
    "validation_features = np.reshape(validation_features, (360, 4 * 4 * 512)) \n",
    "test_features = np.reshape(test_features, (360, 4 * 4 * 512))\n"
   ]
  },
  {
   "cell_type": "code",
   "execution_count": 0,
   "metadata": {
    "colab": {
     "base_uri": "https://localhost:8080/",
     "height": 52
    },
    "colab_type": "code",
    "executionInfo": {
     "elapsed": 672,
     "status": "ok",
     "timestamp": 1590241020072,
     "user": {
      "displayName": "Sergey Vilov",
      "photoUrl": "",
      "userId": "16545205334574304565"
     },
     "user_tz": -120
    },
    "id": "nMuelavdniDY",
    "outputId": "37055423-3b0b-4660-9484-52a86de95438"
   },
   "outputs": [
    {
     "name": "stdout",
     "output_type": "stream",
     "text": [
      "Found 1680 images belonging to 12 classes.\n"
     ]
    },
    {
     "data": {
      "text/plain": [
       "(20, 60, 60, 3)"
      ]
     },
     "execution_count": 35,
     "metadata": {
      "tags": []
     },
     "output_type": "execute_result"
    }
   ],
   "source": [
    "generator = datagen.flow_from_directory(\n",
    "      train_dir, target_size=(60, 60), batch_size=batch_size, class_mode='categorical', interpolation = 'bicubic')\n",
    "b, l =next(generator)\n",
    "b.shape"
   ]
  },
  {
   "cell_type": "code",
   "execution_count": 0,
   "metadata": {
    "colab": {},
    "colab_type": "code",
    "id": "NyWGv2LCmTrh"
   },
   "outputs": [],
   "source": [
    "from tensorflow.keras import models\n",
    "from tensorflow.keras import layers\n",
    "from tensorflow.keras import optimizers\n",
    "model = models.Sequential()\n",
    "model.add(layers.Dense(512*4, activation='relu', input_dim=4 * 4 * 512))\n",
    "model.add(layers.Dense(512*2, activation='relu')) \n",
    "model.add(layers.Dense(512, activation='relu')) \n",
    "model.add(layers.Dense(256, activation='relu')) \n",
    "model.add(layers.Dense(128, activation='relu')) \n",
    "# model.add(layers.Dropout(0.5))\n",
    "model.add(layers.Dense(12, activation='softmax'))\n",
    "model.compile(optimizer=optimizers.RMSprop(lr=2e-5), loss='categorical_crossentropy',\n",
    "              metrics=['acc'])\n",
    "history = model.fit(train_features, train_labels, epochs=100,\n",
    "                    batch_size=20,\n",
    "                    validation_data=(validation_features, validation_labels))\n"
   ]
  },
  {
   "cell_type": "code",
   "execution_count": 0,
   "metadata": {
    "colab": {},
    "colab_type": "code",
    "id": "NROyfYXtmvIM"
   },
   "outputs": [],
   "source": [
    "# model.save('plant_seedings_VGG16_78acc.h5')\n",
    "from tensorflow.keras.models import load_model\n",
    "model = load_model('plant_seedings_VGG16.h5')\n",
    "model.summary()\n"
   ]
  },
  {
   "cell_type": "code",
   "execution_count": 0,
   "metadata": {
    "colab": {},
    "colab_type": "code",
    "id": "1IEivdO8lrzO"
   },
   "outputs": [],
   "source": []
  },
  {
   "cell_type": "code",
   "execution_count": 0,
   "metadata": {
    "colab": {},
    "colab_type": "code",
    "id": "hbYCpSQjlsVg"
   },
   "outputs": [],
   "source": [
    "# model.save('plant_seedings_VGG16_with_block5.h5')\n",
    "\n",
    "model.save('/content/drive/My Drive/DL/plant_seedings_models/plant_seedings_VGG16_with_block5_test.h5')"
   ]
  },
  {
   "cell_type": "code",
   "execution_count": 0,
   "metadata": {
    "colab": {},
    "colab_type": "code",
    "id": "-UcFizbXYYwr"
   },
   "outputs": [],
   "source": []
  },
  {
   "cell_type": "code",
   "execution_count": 0,
   "metadata": {
    "colab": {
     "base_uri": "https://localhost:8080/",
     "height": 545
    },
    "colab_type": "code",
    "executionInfo": {
     "elapsed": 1314,
     "status": "ok",
     "timestamp": 1590251325713,
     "user": {
      "displayName": "Sergey Vilov",
      "photoUrl": "",
      "userId": "16545205334574304565"
     },
     "user_tz": -120
    },
    "id": "8zA3UECsm7ZY",
    "outputId": "b4e8fa29-603c-48f1-abc9-28e3d6a2d9f2"
   },
   "outputs": [
    {
     "data": {
      "image/png": "[encoded data removed]",
      "text/plain": [
       "<Figure size 432x288 with 1 Axes>"
      ]
     },
     "metadata": {
      "needs_background": "light",
      "tags": []
     },
     "output_type": "display_data"
    },
    {
     "data": {
      "image/png": "[encoded data removed]",
      "text/plain": [
       "<Figure size 432x288 with 1 Axes>"
      ]
     },
     "metadata": {
      "needs_background": "light",
      "tags": []
     },
     "output_type": "display_data"
    }
   ],
   "source": [
    "\n",
    "import matplotlib.pyplot as plt\n",
    "\n",
    "acc = history.history['acc']\n",
    "val_acc = history.history['val_acc'] \n",
    "loss = history.history['loss'] \n",
    "val_loss = history.history['val_loss']\n",
    "\n",
    "epochs = range(1, len(acc) + 1)\n",
    "plt.plot(epochs, acc, 'bo', label='Training acc') \n",
    "plt.plot(epochs, val_acc, 'b', label='Validation acc') \n",
    "plt.title('Training and validation accuracy') \n",
    "plt.legend()\n",
    "plt.figure()\n",
    "plt.plot(epochs, loss, 'bo', label='Training loss') \n",
    "plt.plot(epochs, val_loss, 'b', label='Validation loss') \n",
    "plt.title('Training and validation loss')\n",
    "plt.legend()\n",
    "plt.show()"
   ]
  },
  {
   "cell_type": "code",
   "execution_count": 24,
   "metadata": {
    "colab": {
     "base_uri": "https://localhost:8080/",
     "height": 52
    },
    "colab_type": "code",
    "executionInfo": {
     "elapsed": 1329,
     "status": "ok",
     "timestamp": 1591175788859,
     "user": {
      "displayName": "Sergey Vilov",
      "photoUrl": "",
      "userId": "16545205334574304565"
     },
     "user_tz": -120
    },
    "id": "nm4nKp6FZ9u7",
    "outputId": "7addec27-09c6-4835-f38f-abac5b5a6c11"
   },
   "outputs": [
    {
     "name": "stdout",
     "output_type": "stream",
     "text": [
      "Found 4027 images belonging to 12 classes.\n",
      "Found 723 images belonging to 12 classes.\n"
     ]
    }
   ],
   "source": [
    "import tensorflow\n",
    "from tensorflow.keras import models\n",
    "from tensorflow.keras import layers\n",
    "from tensorflow.keras.applications import VGG16\n",
    "from tensorflow.keras.applications.vgg16 import preprocess_input\n",
    "from tensorflow.keras.preprocessing.image import ImageDataGenerator \n",
    "from tensorflow.keras import optimizers, regularizers\n",
    "from tensorflow.keras.models import load_model\n",
    "import random as python_random\n",
    "import numpy as np  \n",
    "import os\n",
    "\n",
    "###seeking for reproducibility (to verify)###\n",
    "# np.random.seed(123)\n",
    "# python_random.seed(123)\n",
    "# tensorflow.random.set_seed(1234)\n",
    "# os.environ['PYTHONHASHSEED'] = '0'\n",
    "\n",
    "###PREPROCESSING###\n",
    "base_dir = '/content/drive/My Drive/DL/plant_seedings/' \n",
    "train_dir = os.path.join(base_dir, 'train_validation') \n",
    "validation_dir = os.path.join(base_dir, 'test') \n",
    "test_dir = os.path.join(base_dir, 'kaggle_test')\n",
    "\n",
    "def preprocessing_function(img):\n",
    "\n",
    "  # mean_intensity = np.mean(x,axis=(0,1,2))\n",
    "  # x = x/mean_intensity;\n",
    "\n",
    "  #return only the green channel\n",
    "  # green = x[:,:,1]/(x[:,:,1]+x[:,:,2]+x[:,:,0]+0.1)*255;\n",
    "  # x[:,:,0] = green\n",
    "  # x[:,:,1] = green\n",
    "  # x[:,:,2] = green\n",
    "\n",
    "  #subtract mean values (used in training the original network)\n",
    "  img[:,:,0] = img[:,:,0] - 103.939\n",
    "  img[:,:,1] = img[:,:,1] - 116.779\n",
    "  img[:,:,2] = img[:,:,2] - 123.68\n",
    "\n",
    "  return img\n",
    "\n",
    "train_datagen = ImageDataGenerator(\n",
    "  rotation_range=360, width_shift_range=0, height_shift_range=0, zoom_range=0.15, horizontal_flip = True,\n",
    "  vertical_flip = True, \n",
    "  fill_mode='constant', cval=255, preprocessing_function = preprocessing_function)\n",
    "\n",
    "\n",
    "test_datagen = ImageDataGenerator(preprocessing_function = preprocessing_function)\n",
    "\n",
    "\n",
    "train_generator = train_datagen.flow_from_directory(\n",
    "    train_dir,\n",
    "    target_size = (150,150),\n",
    "    interpolation = 'bicubic',\n",
    "    batch_size = 20,\n",
    "    class_mode = 'categorical')\n",
    "\n",
    "validation_generator = test_datagen.flow_from_directory(\n",
    "    validation_dir,\n",
    "    target_size = (150,150),\n",
    "    interpolation = 'bicubic',\n",
    "    batch_size = 20,\n",
    "    class_mode = 'categorical')\n",
    "\n",
    "\n",
    "###MODEL###\n",
    "conv_base = VGG16(weights='imagenet',\n",
    "                  include_top=False,\n",
    "                  input_shape=(150, 150, 3))\n",
    "\n",
    "conv_base.trainable = False\n",
    "\n",
    "set_trainable = False\n",
    "for layer in conv_base.layers:\n",
    "  if layer.name == 'block4_conv1': \n",
    "    set_trainable = True\n",
    "  if set_trainable: \n",
    "    layer.trainable = True\n",
    "  else:\n",
    "    layer.trainable = False\n",
    "\n",
    "model = models.Sequential() \n",
    "model.add(conv_base)\n",
    "model.add(layers.Flatten()) \n",
    "# model.add(layers.Dense(512*4, activation='relu', name = 'dense_255'))\n",
    "# model.add(layers.Dense(64, activation='relu', name = 'dense_256')) \n",
    "# model.add(layers.Dense(512, kernel_regularizer=regularizers.l2(1000), activation='relu', name = 'dense_257')) \n",
    "# model.add(layers.Dense(256, activation='relu', name = 'dense_258')) \n",
    "# model.add(layers.Dense(128, activation='relu', name = 'dense_259')) \n",
    "# model.add(layers.Dropout(0.5))\n",
    "# model.add(layers.Dense(12, activation='softmax'))\n",
    "# model.add(layers.Dense(256, activation='relu')) \n",
    "model.add(layers.Dense(12, activation='softmax', name = 'dense_260'))\n",
    "\n",
    "# model.load_weights('/content/drive/My Drive/DL/plant_seedings_models/test.h5')\n",
    "\n",
    "model.compile(loss='categorical_crossentropy', optimizer=optimizers.RMSprop(lr=1e-5),\n",
    "              metrics=['acc'])\n",
    "\n",
    "\n",
    "\n"
   ]
  },
  {
   "cell_type": "code",
   "execution_count": 0,
   "metadata": {
    "colab": {
     "base_uri": "https://localhost:8080/",
     "height": 304
    },
    "colab_type": "code",
    "executionInfo": {
     "elapsed": 9179,
     "status": "ok",
     "timestamp": 1590339425045,
     "user": {
      "displayName": "Sergey Vilov",
      "photoUrl": "",
      "userId": "16545205334574304565"
     },
     "user_tz": -120
    },
    "id": "EZsKBzx0ovGM",
    "outputId": "4a19569f-3631-4325-e6ae-ada12778d060"
   },
   "outputs": [
    {
     "name": "stderr",
     "output_type": "stream",
     "text": [
      "Clipping input data to the valid range for imshow with RGB data ([0..1] for floats or [0..255] for integers).\n"
     ]
    },
    {
     "data": {
      "text/plain": [
       "<matplotlib.image.AxesImage at 0x7f8170907a58>"
      ]
     },
     "execution_count": 56,
     "metadata": {
      "tags": []
     },
     "output_type": "execute_result"
    },
    {
     "data": {
      "image/png": "[encoded data removed]",
      "text/plain": [
       "<Figure size 432x288 with 1 Axes>"
      ]
     },
     "metadata": {
      "needs_background": "light",
      "tags": []
     },
     "output_type": "display_data"
    }
   ],
   "source": [
    "img=next(train_generator)[0][0]\n",
    "import matplotlib.pyplot as plt\n",
    "%matplotlib inline\n",
    "plt.imshow(img)\n"
   ]
  },
  {
   "cell_type": "code",
   "execution_count": 19,
   "metadata": {
    "colab": {
     "base_uri": "https://localhost:8080/",
     "height": 434
    },
    "colab_type": "code",
    "executionInfo": {
     "elapsed": 1771,
     "status": "ok",
     "timestamp": 1591094074027,
     "user": {
      "displayName": "Sergey Vilov",
      "photoUrl": "",
      "userId": "16545205334574304565"
     },
     "user_tz": -120
    },
    "id": "oqIAmUJVPoo0",
    "outputId": "840d4e80-7573-4859-97a8-fad2e5ba98bb"
   },
   "outputs": [
    {
     "name": "stdout",
     "output_type": "stream",
     "text": [
      "Model: \"sequential_47\"\n",
      "_________________________________________________________________\n",
      "Layer (type)                 Output Shape              Param #   \n",
      "=================================================================\n",
      "vgg16 (Model)                (None, 4, 4, 512)         14714688  \n",
      "_________________________________________________________________\n",
      "flatten_47 (Flatten)         (None, 8192)              0         \n",
      "_________________________________________________________________\n",
      "dense_255 (Dense)            (None, 2048)              16779264  \n",
      "_________________________________________________________________\n",
      "dense_256 (Dense)            (None, 1024)              2098176   \n",
      "_________________________________________________________________\n",
      "dense_257 (Dense)            (None, 512)               524800    \n",
      "_________________________________________________________________\n",
      "dense_258 (Dense)            (None, 256)               131328    \n",
      "_________________________________________________________________\n",
      "dense_259 (Dense)            (None, 128)               32896     \n",
      "_________________________________________________________________\n",
      "dense_260 (Dense)            (None, 12)                1548      \n",
      "=================================================================\n",
      "Total params: 34,282,700\n",
      "Trainable params: 34,282,700\n",
      "Non-trainable params: 0\n",
      "_________________________________________________________________\n"
     ]
    }
   ],
   "source": [
    "model = load_model('/content/drive/My Drive/DL/plant_seedings_models/plant_seedings_VGG16_with_block5.h5')\n",
    "model.load_weights('/content/drive/My Drive/DL/plant_seedings_models/plant_seedings_VGG16_with_block5.h5')\n",
    "\n",
    "model.summary()\n"
   ]
  },
  {
   "cell_type": "code",
   "execution_count": 31,
   "metadata": {
    "colab": {
     "base_uri": "https://localhost:8080/",
     "height": 553
    },
    "colab_type": "code",
    "executionInfo": {
     "elapsed": 236566,
     "status": "error",
     "timestamp": 1591176993567,
     "user": {
      "displayName": "Sergey Vilov",
      "photoUrl": "",
      "userId": "16545205334574304565"
     },
     "user_tz": -120
    },
    "id": "H_5SWF2Pb836",
    "outputId": "9138c1e4-5954-4841-ba20-164c575af584"
   },
   "outputs": [
    {
     "name": "stdout",
     "output_type": "stream",
     "text": [
      "Epoch 1/50\n",
      "201/201 [==============================] - 46s 228ms/step - loss: 0.0680 - acc: 0.9795 - val_loss: 0.3819 - val_acc: 0.9472\n",
      "Epoch 2/50\n",
      "201/201 [==============================] - 45s 224ms/step - loss: 0.0653 - acc: 0.9785 - val_loss: 0.3794 - val_acc: 0.9472\n",
      "Epoch 3/50\n",
      "201/201 [==============================] - 46s 231ms/step - loss: 0.0583 - acc: 0.9823 - val_loss: 0.3750 - val_acc: 0.9486\n",
      "Epoch 4/50\n",
      "201/201 [==============================] - 47s 232ms/step - loss: 0.0679 - acc: 0.9785 - val_loss: 0.3743 - val_acc: 0.9472\n",
      "Epoch 5/50\n",
      "201/201 [==============================] - 46s 230ms/step - loss: 0.0573 - acc: 0.9788 - val_loss: 0.3719 - val_acc: 0.9472\n",
      "Epoch 6/50\n",
      " 12/201 [>.............................] - ETA: 35s - loss: 0.1289 - acc: 0.9667"
     ]
    },
    {
     "ename": "KeyboardInterrupt",
     "evalue": "ignored",
     "output_type": "error",
     "traceback": [
      "\u001b[0;31m---------------------------------------------------------------------------\u001b[0m",
      "\u001b[0;31mKeyboardInterrupt\u001b[0m                         Traceback (most recent call last)",
      "\u001b[0;32m<ipython-input-31-f91fc9c1d745>\u001b[0m in \u001b[0;36m<module>\u001b[0;34m()\u001b[0m\n\u001b[1;32m     14\u001b[0m       \u001b[0mepochs\u001b[0m\u001b[0;34m=\u001b[0m\u001b[0;36m50\u001b[0m\u001b[0;34m,\u001b[0m\u001b[0;34m\u001b[0m\u001b[0;34m\u001b[0m\u001b[0m\n\u001b[1;32m     15\u001b[0m       \u001b[0mvalidation_data\u001b[0m\u001b[0;34m=\u001b[0m\u001b[0mvalidation_generator\u001b[0m\u001b[0;34m,\u001b[0m\u001b[0;34m\u001b[0m\u001b[0;34m\u001b[0m\u001b[0m\n\u001b[0;32m---> 16\u001b[0;31m       validation_steps=36)\n\u001b[0m",
      "\u001b[0;32m/usr/local/lib/python3.6/dist-packages/tensorflow/python/util/deprecation.py\u001b[0m in \u001b[0;36mnew_func\u001b[0;34m(*args, **kwargs)\u001b[0m\n\u001b[1;32m    322\u001b[0m               \u001b[0;34m'in a future version'\u001b[0m \u001b[0;32mif\u001b[0m \u001b[0mdate\u001b[0m \u001b[0;32mis\u001b[0m \u001b[0;32mNone\u001b[0m \u001b[0;32melse\u001b[0m \u001b[0;34m(\u001b[0m\u001b[0;34m'after %s'\u001b[0m \u001b[0;34m%\u001b[0m \u001b[0mdate\u001b[0m\u001b[0;34m)\u001b[0m\u001b[0;34m,\u001b[0m\u001b[0;34m\u001b[0m\u001b[0;34m\u001b[0m\u001b[0m\n\u001b[1;32m    323\u001b[0m               instructions)\n\u001b[0;32m--> 324\u001b[0;31m       \u001b[0;32mreturn\u001b[0m \u001b[0mfunc\u001b[0m\u001b[0;34m(\u001b[0m\u001b[0;34m*\u001b[0m\u001b[0margs\u001b[0m\u001b[0;34m,\u001b[0m \u001b[0;34m**\u001b[0m\u001b[0mkwargs\u001b[0m\u001b[0;34m)\u001b[0m\u001b[0;34m\u001b[0m\u001b[0;34m\u001b[0m\u001b[0m\n\u001b[0m\u001b[1;32m    325\u001b[0m     return tf_decorator.make_decorator(\n\u001b[1;32m    326\u001b[0m         \u001b[0mfunc\u001b[0m\u001b[0;34m,\u001b[0m \u001b[0mnew_func\u001b[0m\u001b[0;34m,\u001b[0m \u001b[0;34m'deprecated'\u001b[0m\u001b[0;34m,\u001b[0m\u001b[0;34m\u001b[0m\u001b[0;34m\u001b[0m\u001b[0m\n",
      "\u001b[0;32m/usr/local/lib/python3.6/dist-packages/tensorflow/python/keras/engine/training.py\u001b[0m in \u001b[0;36mfit_generator\u001b[0;34m(self, generator, steps_per_epoch, epochs, verbose, callbacks, validation_data, validation_steps, validation_freq, class_weight, max_queue_size, workers, use_multiprocessing, shuffle, initial_epoch)\u001b[0m\n\u001b[1;32m   1477\u001b[0m         \u001b[0muse_multiprocessing\u001b[0m\u001b[0;34m=\u001b[0m\u001b[0muse_multiprocessing\u001b[0m\u001b[0;34m,\u001b[0m\u001b[0;34m\u001b[0m\u001b[0;34m\u001b[0m\u001b[0m\n\u001b[1;32m   1478\u001b[0m         \u001b[0mshuffle\u001b[0m\u001b[0;34m=\u001b[0m\u001b[0mshuffle\u001b[0m\u001b[0;34m,\u001b[0m\u001b[0;34m\u001b[0m\u001b[0;34m\u001b[0m\u001b[0m\n\u001b[0;32m-> 1479\u001b[0;31m         initial_epoch=initial_epoch)\n\u001b[0m\u001b[1;32m   1480\u001b[0m \u001b[0;34m\u001b[0m\u001b[0m\n\u001b[1;32m   1481\u001b[0m   @deprecation.deprecated(\n",
      "\u001b[0;32m/usr/local/lib/python3.6/dist-packages/tensorflow/python/keras/engine/training.py\u001b[0m in \u001b[0;36m_method_wrapper\u001b[0;34m(self, *args, **kwargs)\u001b[0m\n\u001b[1;32m     64\u001b[0m   \u001b[0;32mdef\u001b[0m \u001b[0m_method_wrapper\u001b[0m\u001b[0;34m(\u001b[0m\u001b[0mself\u001b[0m\u001b[0;34m,\u001b[0m \u001b[0;34m*\u001b[0m\u001b[0margs\u001b[0m\u001b[0;34m,\u001b[0m \u001b[0;34m**\u001b[0m\u001b[0mkwargs\u001b[0m\u001b[0;34m)\u001b[0m\u001b[0;34m:\u001b[0m\u001b[0;34m\u001b[0m\u001b[0;34m\u001b[0m\u001b[0m\n\u001b[1;32m     65\u001b[0m     \u001b[0;32mif\u001b[0m \u001b[0;32mnot\u001b[0m \u001b[0mself\u001b[0m\u001b[0;34m.\u001b[0m\u001b[0m_in_multi_worker_mode\u001b[0m\u001b[0;34m(\u001b[0m\u001b[0;34m)\u001b[0m\u001b[0;34m:\u001b[0m  \u001b[0;31m# pylint: disable=protected-access\u001b[0m\u001b[0;34m\u001b[0m\u001b[0;34m\u001b[0m\u001b[0m\n\u001b[0;32m---> 66\u001b[0;31m       \u001b[0;32mreturn\u001b[0m \u001b[0mmethod\u001b[0m\u001b[0;34m(\u001b[0m\u001b[0mself\u001b[0m\u001b[0;34m,\u001b[0m \u001b[0;34m*\u001b[0m\u001b[0margs\u001b[0m\u001b[0;34m,\u001b[0m \u001b[0;34m**\u001b[0m\u001b[0mkwargs\u001b[0m\u001b[0;34m)\u001b[0m\u001b[0;34m\u001b[0m\u001b[0;34m\u001b[0m\u001b[0m\n\u001b[0m\u001b[1;32m     67\u001b[0m \u001b[0;34m\u001b[0m\u001b[0m\n\u001b[1;32m     68\u001b[0m     \u001b[0;31m# Running inside `run_distribute_coordinator` already.\u001b[0m\u001b[0;34m\u001b[0m\u001b[0;34m\u001b[0m\u001b[0;34m\u001b[0m\u001b[0m\n",
      "\u001b[0;32m/usr/local/lib/python3.6/dist-packages/tensorflow/python/keras/engine/training.py\u001b[0m in \u001b[0;36mfit\u001b[0;34m(self, x, y, batch_size, epochs, verbose, callbacks, validation_split, validation_data, shuffle, class_weight, sample_weight, initial_epoch, steps_per_epoch, validation_steps, validation_batch_size, validation_freq, max_queue_size, workers, use_multiprocessing)\u001b[0m\n\u001b[1;32m    846\u001b[0m                 batch_size=batch_size):\n\u001b[1;32m    847\u001b[0m               \u001b[0mcallbacks\u001b[0m\u001b[0;34m.\u001b[0m\u001b[0mon_train_batch_begin\u001b[0m\u001b[0;34m(\u001b[0m\u001b[0mstep\u001b[0m\u001b[0;34m)\u001b[0m\u001b[0;34m\u001b[0m\u001b[0;34m\u001b[0m\u001b[0m\n\u001b[0;32m--> 848\u001b[0;31m               \u001b[0mtmp_logs\u001b[0m \u001b[0;34m=\u001b[0m \u001b[0mtrain_function\u001b[0m\u001b[0;34m(\u001b[0m\u001b[0miterator\u001b[0m\u001b[0;34m)\u001b[0m\u001b[0;34m\u001b[0m\u001b[0;34m\u001b[0m\u001b[0m\n\u001b[0m\u001b[1;32m    849\u001b[0m               \u001b[0;31m# Catch OutOfRangeError for Datasets of unknown size.\u001b[0m\u001b[0;34m\u001b[0m\u001b[0;34m\u001b[0m\u001b[0;34m\u001b[0m\u001b[0m\n\u001b[1;32m    850\u001b[0m               \u001b[0;31m# This blocks until the batch has finished executing.\u001b[0m\u001b[0;34m\u001b[0m\u001b[0;34m\u001b[0m\u001b[0;34m\u001b[0m\u001b[0m\n",
      "\u001b[0;32m/usr/local/lib/python3.6/dist-packages/tensorflow/python/eager/def_function.py\u001b[0m in \u001b[0;36m__call__\u001b[0;34m(self, *args, **kwds)\u001b[0m\n\u001b[1;32m    578\u001b[0m         \u001b[0mxla_context\u001b[0m\u001b[0;34m.\u001b[0m\u001b[0mExit\u001b[0m\u001b[0;34m(\u001b[0m\u001b[0;34m)\u001b[0m\u001b[0;34m\u001b[0m\u001b[0;34m\u001b[0m\u001b[0m\n\u001b[1;32m    579\u001b[0m     \u001b[0;32melse\u001b[0m\u001b[0;34m:\u001b[0m\u001b[0;34m\u001b[0m\u001b[0;34m\u001b[0m\u001b[0m\n\u001b[0;32m--> 580\u001b[0;31m       \u001b[0mresult\u001b[0m \u001b[0;34m=\u001b[0m \u001b[0mself\u001b[0m\u001b[0;34m.\u001b[0m\u001b[0m_call\u001b[0m\u001b[0;34m(\u001b[0m\u001b[0;34m*\u001b[0m\u001b[0margs\u001b[0m\u001b[0;34m,\u001b[0m \u001b[0;34m**\u001b[0m\u001b[0mkwds\u001b[0m\u001b[0;34m)\u001b[0m\u001b[0;34m\u001b[0m\u001b[0;34m\u001b[0m\u001b[0m\n\u001b[0m\u001b[1;32m    581\u001b[0m \u001b[0;34m\u001b[0m\u001b[0m\n\u001b[1;32m    582\u001b[0m     \u001b[0;32mif\u001b[0m \u001b[0mtracing_count\u001b[0m \u001b[0;34m==\u001b[0m \u001b[0mself\u001b[0m\u001b[0;34m.\u001b[0m\u001b[0m_get_tracing_count\u001b[0m\u001b[0;34m(\u001b[0m\u001b[0;34m)\u001b[0m\u001b[0;34m:\u001b[0m\u001b[0;34m\u001b[0m\u001b[0;34m\u001b[0m\u001b[0m\n",
      "\u001b[0;32m/usr/local/lib/python3.6/dist-packages/tensorflow/python/eager/def_function.py\u001b[0m in \u001b[0;36m_call\u001b[0;34m(self, *args, **kwds)\u001b[0m\n\u001b[1;32m    609\u001b[0m       \u001b[0;31m# In this case we have created variables on the first call, so we run the\u001b[0m\u001b[0;34m\u001b[0m\u001b[0;34m\u001b[0m\u001b[0;34m\u001b[0m\u001b[0m\n\u001b[1;32m    610\u001b[0m       \u001b[0;31m# defunned version which is guaranteed to never create variables.\u001b[0m\u001b[0;34m\u001b[0m\u001b[0;34m\u001b[0m\u001b[0;34m\u001b[0m\u001b[0m\n\u001b[0;32m--> 611\u001b[0;31m       \u001b[0;32mreturn\u001b[0m \u001b[0mself\u001b[0m\u001b[0;34m.\u001b[0m\u001b[0m_stateless_fn\u001b[0m\u001b[0;34m(\u001b[0m\u001b[0;34m*\u001b[0m\u001b[0margs\u001b[0m\u001b[0;34m,\u001b[0m \u001b[0;34m**\u001b[0m\u001b[0mkwds\u001b[0m\u001b[0;34m)\u001b[0m  \u001b[0;31m# pylint: disable=not-callable\u001b[0m\u001b[0;34m\u001b[0m\u001b[0;34m\u001b[0m\u001b[0m\n\u001b[0m\u001b[1;32m    612\u001b[0m     \u001b[0;32melif\u001b[0m \u001b[0mself\u001b[0m\u001b[0;34m.\u001b[0m\u001b[0m_stateful_fn\u001b[0m \u001b[0;32mis\u001b[0m \u001b[0;32mnot\u001b[0m \u001b[0;32mNone\u001b[0m\u001b[0;34m:\u001b[0m\u001b[0;34m\u001b[0m\u001b[0;34m\u001b[0m\u001b[0m\n\u001b[1;32m    613\u001b[0m       \u001b[0;31m# Release the lock early so that multiple threads can perform the call\u001b[0m\u001b[0;34m\u001b[0m\u001b[0;34m\u001b[0m\u001b[0;34m\u001b[0m\u001b[0m\n",
      "\u001b[0;32m/usr/local/lib/python3.6/dist-packages/tensorflow/python/eager/function.py\u001b[0m in \u001b[0;36m__call__\u001b[0;34m(self, *args, **kwargs)\u001b[0m\n\u001b[1;32m   2418\u001b[0m     \u001b[0;32mwith\u001b[0m \u001b[0mself\u001b[0m\u001b[0;34m.\u001b[0m\u001b[0m_lock\u001b[0m\u001b[0;34m:\u001b[0m\u001b[0;34m\u001b[0m\u001b[0;34m\u001b[0m\u001b[0m\n\u001b[1;32m   2419\u001b[0m       \u001b[0mgraph_function\u001b[0m\u001b[0;34m,\u001b[0m \u001b[0margs\u001b[0m\u001b[0;34m,\u001b[0m \u001b[0mkwargs\u001b[0m \u001b[0;34m=\u001b[0m \u001b[0mself\u001b[0m\u001b[0;34m.\u001b[0m\u001b[0m_maybe_define_function\u001b[0m\u001b[0;34m(\u001b[0m\u001b[0margs\u001b[0m\u001b[0;34m,\u001b[0m \u001b[0mkwargs\u001b[0m\u001b[0;34m)\u001b[0m\u001b[0;34m\u001b[0m\u001b[0;34m\u001b[0m\u001b[0m\n\u001b[0;32m-> 2420\u001b[0;31m     \u001b[0;32mreturn\u001b[0m \u001b[0mgraph_function\u001b[0m\u001b[0;34m.\u001b[0m\u001b[0m_filtered_call\u001b[0m\u001b[0;34m(\u001b[0m\u001b[0margs\u001b[0m\u001b[0;34m,\u001b[0m \u001b[0mkwargs\u001b[0m\u001b[0;34m)\u001b[0m  \u001b[0;31m# pylint: disable=protected-access\u001b[0m\u001b[0;34m\u001b[0m\u001b[0;34m\u001b[0m\u001b[0m\n\u001b[0m\u001b[1;32m   2421\u001b[0m \u001b[0;34m\u001b[0m\u001b[0m\n\u001b[1;32m   2422\u001b[0m   \u001b[0;34m@\u001b[0m\u001b[0mproperty\u001b[0m\u001b[0;34m\u001b[0m\u001b[0;34m\u001b[0m\u001b[0m\n",
      "\u001b[0;32m/usr/local/lib/python3.6/dist-packages/tensorflow/python/eager/function.py\u001b[0m in \u001b[0;36m_filtered_call\u001b[0;34m(self, args, kwargs)\u001b[0m\n\u001b[1;32m   1663\u001b[0m          if isinstance(t, (ops.Tensor,\n\u001b[1;32m   1664\u001b[0m                            resource_variable_ops.BaseResourceVariable))),\n\u001b[0;32m-> 1665\u001b[0;31m         self.captured_inputs)\n\u001b[0m\u001b[1;32m   1666\u001b[0m \u001b[0;34m\u001b[0m\u001b[0m\n\u001b[1;32m   1667\u001b[0m   \u001b[0;32mdef\u001b[0m \u001b[0m_call_flat\u001b[0m\u001b[0;34m(\u001b[0m\u001b[0mself\u001b[0m\u001b[0;34m,\u001b[0m \u001b[0margs\u001b[0m\u001b[0;34m,\u001b[0m \u001b[0mcaptured_inputs\u001b[0m\u001b[0;34m,\u001b[0m \u001b[0mcancellation_manager\u001b[0m\u001b[0;34m=\u001b[0m\u001b[0;32mNone\u001b[0m\u001b[0;34m)\u001b[0m\u001b[0;34m:\u001b[0m\u001b[0;34m\u001b[0m\u001b[0;34m\u001b[0m\u001b[0m\n",
      "\u001b[0;32m/usr/local/lib/python3.6/dist-packages/tensorflow/python/eager/function.py\u001b[0m in \u001b[0;36m_call_flat\u001b[0;34m(self, args, captured_inputs, cancellation_manager)\u001b[0m\n\u001b[1;32m   1744\u001b[0m       \u001b[0;31m# No tape is watching; skip to running the function.\u001b[0m\u001b[0;34m\u001b[0m\u001b[0;34m\u001b[0m\u001b[0;34m\u001b[0m\u001b[0m\n\u001b[1;32m   1745\u001b[0m       return self._build_call_outputs(self._inference_function.call(\n\u001b[0;32m-> 1746\u001b[0;31m           ctx, args, cancellation_manager=cancellation_manager))\n\u001b[0m\u001b[1;32m   1747\u001b[0m     forward_backward = self._select_forward_and_backward_functions(\n\u001b[1;32m   1748\u001b[0m         \u001b[0margs\u001b[0m\u001b[0;34m,\u001b[0m\u001b[0;34m\u001b[0m\u001b[0;34m\u001b[0m\u001b[0m\n",
      "\u001b[0;32m/usr/local/lib/python3.6/dist-packages/tensorflow/python/eager/function.py\u001b[0m in \u001b[0;36mcall\u001b[0;34m(self, ctx, args, cancellation_manager)\u001b[0m\n\u001b[1;32m    596\u001b[0m               \u001b[0minputs\u001b[0m\u001b[0;34m=\u001b[0m\u001b[0margs\u001b[0m\u001b[0;34m,\u001b[0m\u001b[0;34m\u001b[0m\u001b[0;34m\u001b[0m\u001b[0m\n\u001b[1;32m    597\u001b[0m               \u001b[0mattrs\u001b[0m\u001b[0;34m=\u001b[0m\u001b[0mattrs\u001b[0m\u001b[0;34m,\u001b[0m\u001b[0;34m\u001b[0m\u001b[0;34m\u001b[0m\u001b[0m\n\u001b[0;32m--> 598\u001b[0;31m               ctx=ctx)\n\u001b[0m\u001b[1;32m    599\u001b[0m         \u001b[0;32melse\u001b[0m\u001b[0;34m:\u001b[0m\u001b[0;34m\u001b[0m\u001b[0;34m\u001b[0m\u001b[0m\n\u001b[1;32m    600\u001b[0m           outputs = execute.execute_with_cancellation(\n",
      "\u001b[0;32m/usr/local/lib/python3.6/dist-packages/tensorflow/python/eager/execute.py\u001b[0m in \u001b[0;36mquick_execute\u001b[0;34m(op_name, num_outputs, inputs, attrs, ctx, name)\u001b[0m\n\u001b[1;32m     58\u001b[0m     \u001b[0mctx\u001b[0m\u001b[0;34m.\u001b[0m\u001b[0mensure_initialized\u001b[0m\u001b[0;34m(\u001b[0m\u001b[0;34m)\u001b[0m\u001b[0;34m\u001b[0m\u001b[0;34m\u001b[0m\u001b[0m\n\u001b[1;32m     59\u001b[0m     tensors = pywrap_tfe.TFE_Py_Execute(ctx._handle, device_name, op_name,\n\u001b[0;32m---> 60\u001b[0;31m                                         inputs, attrs, num_outputs)\n\u001b[0m\u001b[1;32m     61\u001b[0m   \u001b[0;32mexcept\u001b[0m \u001b[0mcore\u001b[0m\u001b[0;34m.\u001b[0m\u001b[0m_NotOkStatusException\u001b[0m \u001b[0;32mas\u001b[0m \u001b[0me\u001b[0m\u001b[0;34m:\u001b[0m\u001b[0;34m\u001b[0m\u001b[0;34m\u001b[0m\u001b[0m\n\u001b[1;32m     62\u001b[0m     \u001b[0;32mif\u001b[0m \u001b[0mname\u001b[0m \u001b[0;32mis\u001b[0m \u001b[0;32mnot\u001b[0m \u001b[0;32mNone\u001b[0m\u001b[0;34m:\u001b[0m\u001b[0;34m\u001b[0m\u001b[0;34m\u001b[0m\u001b[0m\n",
      "\u001b[0;31mKeyboardInterrupt\u001b[0m: "
     ]
    }
   ],
   "source": [
    "from tensorflow.keras.models import load_model\n",
    "# model.save('/content/drive/My Drive/DL/plant_seedings_models/test.h5')\n",
    "model2 = load_model('/content/drive/My Drive/DL/plant_seedings_models/plant_seedings_VGG16_with_block5_test.h5')\n",
    "# for i,layer in enumerate(model2.layers):\n",
    "        #  if i<=10:\n",
    "          # model.layers[i].set_weights(layer.get_weights())\n",
    "# model = load_model('/content/drive/My Drive/DL/plant_seedings_models/plant_seedings_VGG16_with_block5_2.h5')\n",
    "\n",
    "model.compile(loss='categorical_crossentropy', optimizer=optimizers.RMSprop(lr=1e-5),\n",
    "                 metrics=['acc'])\n",
    "\n",
    "history = model.fit_generator( train_generator,\n",
    "      steps_per_epoch=201,\n",
    "      epochs=50,\n",
    "      validation_data=validation_generator,\n",
    "      validation_steps=36)"
   ]
  },
  {
   "cell_type": "code",
   "execution_count": 10,
   "metadata": {
    "colab": {
     "base_uri": "https://localhost:8080/",
     "height": 295
    },
    "colab_type": "code",
    "executionInfo": {
     "elapsed": 528,
     "status": "ok",
     "timestamp": 1591136393234,
     "user": {
      "displayName": "Sergey Vilov",
      "photoUrl": "",
      "userId": "16545205334574304565"
     },
     "user_tz": -120
    },
    "id": "OtBxs9VQhqoW",
    "outputId": "1e35d62c-8f7c-426e-a323-dc9b4805ef7a"
   },
   "outputs": [
    {
     "name": "stdout",
     "output_type": "stream",
     "text": [
      "Model: \"sequential_3\"\n",
      "_________________________________________________________________\n",
      "Layer (type)                 Output Shape              Param #   \n",
      "=================================================================\n",
      "vgg16 (Model)                (None, 4, 4, 512)         14714688  \n",
      "_________________________________________________________________\n",
      "flatten_3 (Flatten)          (None, 8192)              0         \n",
      "_________________________________________________________________\n",
      "dense_256 (Dense)            (None, 1024)              8389632   \n",
      "_________________________________________________________________\n",
      "dense_260 (Dense)            (None, 12)                12300     \n",
      "=================================================================\n",
      "Total params: 23,116,620\n",
      "Trainable params: 8,401,932\n",
      "Non-trainable params: 14,714,688\n",
      "_________________________________________________________________\n"
     ]
    }
   ],
   "source": [
    "model.summary()"
   ]
  },
  {
   "cell_type": "code",
   "execution_count": 0,
   "metadata": {
    "colab": {
     "base_uri": "https://localhost:8080/",
     "height": 104
    },
    "colab_type": "code",
    "executionInfo": {
     "elapsed": 3306,
     "status": "ok",
     "timestamp": 1590505981199,
     "user": {
      "displayName": "Sergey Vilov",
      "photoUrl": "",
      "userId": "16545205334574304565"
     },
     "user_tz": -120
    },
    "id": "izYya3rsPQxc",
    "outputId": "57a88df3-63fa-404d-bfb7-68ca33214cd2"
   },
   "outputs": [
    {
     "name": "stdout",
     "output_type": "stream",
     "text": [
      "Found 708 images belonging to 12 classes.\n"
     ]
    },
    {
     "data": {
      "text/plain": [
       "array([[2.0972560e-25, 9.2164247e-19, 1.6438793e-15, 1.0000000e+00,\n",
       "        4.9391190e-15, 8.4223411e-19, 2.7806919e-18, 1.9810587e-16,\n",
       "        9.8213750e-15, 3.2277843e-13, 1.8141875e-16, 2.3939612e-19]],\n",
       "      dtype=float32)"
      ]
     },
     "execution_count": 5,
     "metadata": {
      "tags": []
     },
     "output_type": "execute_result"
    }
   ],
   "source": [
    "# model = load_model('plant_seedings_VGG16_green_only_with_block5.h5')\n",
    "import os\n",
    "\n",
    "model = load_model('/content/drive/My Drive/DL/plant_seedings/plant_seedings_VGG16_with_block5.h5')\n",
    "\n",
    "# (_, _, img_files) = next(os.walk(validation_dir))\n",
    "\n",
    "# for idx_images in range(len(img_files)):\n",
    "\n",
    "#   input_img = load_img(input_img_file, target_size=target_size, interpolation=\"bicubic\")\n",
    "\n",
    "test_generator = test_datagen.flow_from_directory(\n",
    "    validation_dir,\n",
    "    target_size = (150,150),\n",
    "    interpolation = 'bicubic',\n",
    "    batch_size = 1,\n",
    "    class_mode = 'categorical')\n",
    "\n",
    "model.predict(next(test_generator))"
   ]
  },
  {
   "cell_type": "code",
   "execution_count": 0,
   "metadata": {
    "colab": {},
    "colab_type": "code",
    "id": "uykTcNRS0bMr"
   },
   "outputs": [],
   "source": [
    "import os\n",
    "from tensorflow.keras.models import load_model\n",
    "from keras.preprocessing.image import load_img, img_to_array\n",
    "import numpy as np\n",
    "\n",
    "target_size = (150, 150)\n",
    "\n",
    "model = load_model('/content/drive/My Drive/DL/plant_seedings_models/plant_seedings_VGG16_with_block5.h5')\n",
    "\n",
    "base_dir = '/content/drive/My Drive/DL/plant_seedings' \n",
    "test_dir = os.path.join(base_dir, 'test') \n",
    "validation_dir = os.path.join(base_dir, 'validation') \n",
    "\n",
    "class_names = ['Shepherds_Purse', 'Cleavers', 'Loose_Silky-bent', 'Common_Chickweed', 'Scentless_Mayweed',\n",
    "  'Sugar_beet', 'Black-grass', 'Fat_Hen', 'Small-flowered_Cranesbill', 'Common_wheat', 'Charlock', 'Maize']\n",
    "\n",
    "class_names.sort()\n",
    "\n",
    "def preprocessing_function(x):\n",
    "  x[:,:,0] = x[:,:,0] - 103.939\n",
    "  x[:,:,1] = x[:,:,1] - 116.779\n",
    "  x[:,:,2] = x[:,:,2] - 123.68\n",
    "  return x\n",
    "\n",
    "error_counter = 0\n",
    "file_counter = 0\n",
    "\n",
    "for class_idx in range(len(class_names)):\n",
    "    class_name = class_names[class_idx]\n",
    "    class_dir = os.path.join(validation_dir, class_name) \n",
    "    (_, _, fnames) = next(os.walk(class_dir))\n",
    "    for fname in fnames:\n",
    "      file_counter+=1\n",
    "      img_file = os.path.join(class_dir, fname) \n",
    "      initial_img = load_img(img_file)\n",
    "      img = img_to_array(initial_img)\n",
    "      img = preprocessing_function(img)\n",
    "      img = np.expand_dims(img, 0)\n",
    "      predicted_class_idx = np.argmax(model.predict(img));\n",
    "      predicted_class_name = class_names[predicted_class_idx];\n",
    "      if predicted_class_idx!=class_idx:\n",
    "        error_counter+=1\n",
    "        print(\"Image file name: {}\\n Real Class:{}\\n Predicted Class:{}\\n\".format(fname, class_name, predicted_class_name))\n",
    "        print(\"Total errors: {} ({:.2f}%)\\n\".format(error_counter, error_counter/file_counter*100))\n",
    "        print(\"{} files processed\\n\".format(file_counter))\n",
    "\n",
    "print(\"{} files processed\".format(file_counter))\n",
    "\n",
    "\n",
    "\n"
   ]
  },
  {
   "cell_type": "code",
   "execution_count": 18,
   "metadata": {
    "colab": {
     "base_uri": "https://localhost:8080/",
     "height": 106
    },
    "colab_type": "code",
    "executionInfo": {
     "elapsed": 219429,
     "status": "ok",
     "timestamp": 1591122995403,
     "user": {
      "displayName": "Sergey Vilov",
      "photoUrl": "",
      "userId": "16545205334574304565"
     },
     "user_tz": -120
    },
    "id": "vmhwSja30uDM",
    "outputId": "cef0171a-5241-45c2-a898-b91bb1a617bf"
   },
   "outputs": [
    {
     "name": "stdout",
     "output_type": "stream",
     "text": [
      "Found 794 images belonging to 1 classes.\n",
      "WARNING:tensorflow:From <ipython-input-18-2f0a97466ca4>:14: Model.predict_generator (from tensorflow.python.keras.engine.training) is deprecated and will be removed in a future version.\n",
      "Instructions for updating:\n",
      "Please use Model.predict, which supports generators.\n"
     ]
    }
   ],
   "source": [
    "\n",
    "\n",
    "# model = load_model('/content/drive/My Drive/DL/plant_seedings_models/plant_seedings_VGG16_with_block5_2.h5')\n",
    "\n",
    "test_generator = test_datagen.flow_from_directory(\n",
    "    directory=test_dir,\n",
    "    target_size=(150, 150),\n",
    "    interpolation=\"bicubic\",\n",
    "    batch_size=1,\n",
    "    class_mode=None,\n",
    "    shuffle=False\n",
    ")\n",
    "\n",
    "pred=model.predict_generator(test_generator, steps=794)\n",
    "\n",
    "predicted_class_indices=np.argmax(pred,axis=1)\n",
    "\n",
    "labels = (train_generator.class_indices)\n",
    "labels = dict((v,k) for k,v in labels.items())\n",
    "labels = dict([(v,k.replace('_',' ')) for v,k in labels.items()])\n",
    "predictions = [labels[k] for k in predicted_class_indices]\n",
    "\n",
    "import pandas as pd\n",
    "filenames=test_generator.filenames\n",
    "filenames = [filename.split('/')[-1] for filename in filenames]\n",
    "\n",
    "results=pd.DataFrame({\"file\":filenames,\n",
    "                      \"species\":predictions})\n",
    "\n",
    "results.to_csv(\"/content/drive/My Drive/plant_seedings_results_3.csv\",index=False)"
   ]
  },
  {
   "cell_type": "code",
   "execution_count": 0,
   "metadata": {
    "colab": {},
    "colab_type": "code",
    "id": "uKLNo18HaqZt"
   },
   "outputs": [],
   "source": [
    "\n",
    "labels = (train_generator.class_indices)\n",
    "labels = dict((v,k) for k,v in labels.items())\n",
    "labels = dict([(v,k.replace('_',' ')) for v,k in labels.items()])\n",
    "predictions = [labels[k] for k in predicted_class_indices]\n",
    "\n",
    "import pandas as pd\n",
    "\n",
    "filenames=test_generator.filenames\n",
    "filenames = [filename.split('/')[-1] for filename in filenames]\n",
    "\n",
    "results=pd.DataFrame({\"file\":filenames,\n",
    "                      \"species\":predictions})\n",
    "\n",
    "results.to_csv(\"/content/drive/My Drive/plant_seedings_results_2.csv\",index=False)"
   ]
  },
  {
   "cell_type": "code",
   "execution_count": 0,
   "metadata": {
    "colab": {
     "base_uri": "https://localhost:8080/",
     "height": 34
    },
    "colab_type": "code",
    "executionInfo": {
     "elapsed": 1040,
     "status": "ok",
     "timestamp": 1590521300584,
     "user": {
      "displayName": "Sergey Vilov",
      "photoUrl": "",
      "userId": "16545205334574304565"
     },
     "user_tz": -120
    },
    "id": "9vgWNLGYbOGh",
    "outputId": "46566fb2-0f78-40ca-d22f-dbdd4f0d58be"
   },
   "outputs": [
    {
     "data": {
      "text/plain": [
       "'0021e90e4.png'"
      ]
     },
     "execution_count": 31,
     "metadata": {
      "tags": []
     },
     "output_type": "execute_result"
    }
   ],
   "source": [
    "filenames[0].split('/')[-1]"
   ]
  }
 ],
 "metadata": {
  "accelerator": "GPU",
  "colab": {
   "authorship_tag": "ABX9TyMuvzyG1iiCoeFKhIIDcIOF",
   "collapsed_sections": [],
   "name": "plant_seedings_experiments.ipynb",
   "provenance": [
    {
     "file_id": "1x8hmLZAhTxGfLB7RH3R3_gbkT2oQNQZF",
     "timestamp": 1590533693369
    },
    {
     "file_id": "1mahiIQokn88yxZlNGTt1N-wBL05QAMUV",
     "timestamp": 1590224426701
    }
   ]
  },
  "kernelspec": {
   "display_name": "Python 3",
   "language": "python",
   "name": "python3"
  },
  "language_info": {
   "codemirror_mode": {
    "name": "ipython",
    "version": 3
   },
   "file_extension": ".py",
   "mimetype": "text/x-python",
   "name": "python",
   "nbconvert_exporter": "python",
   "pygments_lexer": "ipython3",
   "version": "3.7.4"
  }
 },
 "nbformat": 4,
 "nbformat_minor": 1
}
